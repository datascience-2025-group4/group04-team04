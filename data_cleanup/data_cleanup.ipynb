{
 "cells": [
  {
   "cell_type": "code",
   "execution_count": null,
   "id": "1f984820",
   "metadata": {},
   "outputs": [],
   "source": [
    "# Notebook vorbereiten\n",
    "import pandas as pd\n",
    "import numpy as np\n",
    "import matplotlib.pyplot as plt\n",
    "import seaborn as sns\n",
    "import os\n",
    "import shutil \n",
    "ab_ag_raw = pd.read_csv('data/ab_ag.tsv', sep='\\t')\n",
    "columns = pd.read_csv('data/columns.tsv', sep='\\t')\n",
    "uniprot_data = pd.read_csv('data/uniprot_data.tsv', sep='\\t')\n",
    "\n",
    "# ab_ag aus ab_ag_raw aufbereiten\n",
    "ab_ag = ab_ag_raw[[\"pdb\", \"Hchain\", \"Lchain\", \"model\", \"antigen_chain\", \"antigen_name\", \"antigen_species\"]]\n",
    "# Füge Spalten für die CDR-Sequenzen in ab_ag hinzu\n",
    "for col in [\"CDR_H1\", \"CDR_H2\", \"CDR_H3\", \"CDR_L1\", \"CDR_L2\", \"CDR_L3\"]:\n",
    "    if col not in ab_ag.columns:\n",
    "        ab_ag[col] = np.nan\n",
    "    ab_ag[col] = ab_ag[col].astype(object)\n",
    "# Entferne Einträge ohne Antigennamen\n",
    "ab_ag.dropna(subset=[\"antigen_chain\"], inplace=True)\n",
    "\n",
    "# Ich hab aus Versehen das Code-Feld gelöscht! Code von Anna für doppelte pdb Einträge zurückholen!"
   ]
  },
  {
   "cell_type": "markdown",
   "id": "f56aec97",
   "metadata": {},
   "source": [
    "### Überarbeiteter Code zum Herunterladen der Antikörpersequenzen. Nach dem Download wird der Code nicht mehr benötigt, da die Daten in ab_ag.tsv gespeichert werden.\n",
    "# Funktionen aus dem sabdab_downloader importieren\n",
    "from common.sabdab_downloader import getannotation\n",
    "\n",
    "# Definiere CDR-Regionen als slices für die H- und L-Ketten (Literatur überprüfen, ob die Indizes korrekt sind!)\n",
    "cdr_regions = {\n",
    "        \"H1\": slice(26, 32),\n",
    "        \"H2\": slice(52, 56),\n",
    "        \"H3\": slice(95, 102),\n",
    "        \"L1\": slice(24, 34),\n",
    "        \"L2\": slice(50, 56),\n",
    "        \"L3\": slice(89, 97)\n",
    "}\n",
    "\n",
    "## Lade die Chothia-Daten und Chothia-nummerierten Sequenzen für jeden PDB-Eintrag herunter und speichere sie im Ordner des entsprechenden PDB-Eintrags:\n",
    "# Für jede Zeile (bzw. Index, da einige Zeilen aus ab_ag_raw gelöscht wurden) in ab_ag\n",
    "for x in ab_ag.index:\n",
    "    # Extrahiere die PDB-ID, H-Kette, L-Kette und Modellnummer aus der Zeile für die Argumente von getannotation:\n",
    "    fab_unique = ab_ag.loc[x,[\"pdb\", \"Hchain\", \"Lchain\", \"model\"]].tolist()\n",
    "    pdb = fab_unique[0] # PDB-ID aus der Liste extrahieren\n",
    "    # Erstelle einen temporären Ordner in sabdab_download, falls er noch nicht existiert für die files, die getannotation herunterladen wird\n",
    "    if not os.path.exists(f\"data/sabdab_download/{pdb}\"):\n",
    "        os.makedirs(f\"data/sabdab_download/{pdb}\")\n",
    "    # Lade die Chothia-nummerierten Sequenzen herunter oder gib eine Fehlermeldung für entsprechende PDB-Einträge aus.\n",
    "    # getanntation erwartet als zweites Argument eine Liste aus einer oder mehreren Listen. Wir benutzen pro Zeile in ab_ag jeweils eine Liste, die eine einzige Liste enthält:\n",
    "    try:\n",
    "        getannotation(pdb, [fab_unique], f\"data/sabdab_download/{pdb}\")\n",
    "        # Speichere die heruntergeladenen .ann-Dateien für VH und VL jeweils in einem DataFrame:\n",
    "        VH_chothia_seq = pd.read_csv(f\"data/sabdab_download/{pdb}/{pdb}_{fab_unique[1]}_VH.ann\", sep='\\t', header=None, names=['Chothia_Position', 'Aminosäure'])\n",
    "        VL_chothia_seq = pd.read_csv(f\"data/sabdab_download/{pdb}/{pdb}_{fab_unique[2]}_VL.ann\", sep='\\t', header=None, names=['Chothia_Position', 'Aminosäure'])\n",
    "        # Extrahiere die CDR-Sequenzen aus den Chothia-annotierten Sequenzen und speichere sie in ab_ag\n",
    "        H1_seq = VH_chothia_seq.loc[cdr_regions[\"H1\"], \"Aminosäure\"].tolist()\n",
    "        ab_ag.at[x, \"CDR_H1\"] = H1_seq\n",
    "        H2_seq = VH_chothia_seq.loc[cdr_regions[\"H2\"], \"Aminosäure\"].tolist()\n",
    "        ab_ag.at[x, \"CDR_H2\"] = H2_seq\n",
    "        H3_seq = VH_chothia_seq.loc[cdr_regions[\"H3\"], \"Aminosäure\"].tolist()\n",
    "        ab_ag.at[x, \"CDR_H3\"] = H3_seq\n",
    "        L1_seq = VL_chothia_seq.loc[cdr_regions[\"L1\"], \"Aminosäure\"].tolist()\n",
    "        ab_ag.at[x, \"CDR_L1\"] = L1_seq\n",
    "        L2_seq = VL_chothia_seq.loc[cdr_regions[\"L2\"], \"Aminosäure\"].tolist()\n",
    "        ab_ag.at[x, \"CDR_L2\"] = L2_seq\n",
    "        L3_seq = VL_chothia_seq.loc[cdr_regions[\"L3\"], \"Aminosäure\"].tolist()\n",
    "        ab_ag.at[x, \"CDR_L3\"] = L3_seq\n",
    "    except Exception as e:\n",
    "        print(f\"Could not download Chothia-annotated sequence for {pdb}: {e}\")\n",
    "    # Lösche den temporären Ordner, nachdem die Sequenzen extrahiert wurden:\n",
    "    shutil.rmtree(f\"data/sabdab_download/{pdb}\")\n",
    "ab_ag.to_csv('data/ab_ag_annotated.tsv', sep='\\t', index=False)"
   ]
  },
  {
   "cell_type": "code",
   "execution_count": 1,
   "id": "fc8b77ce",
   "metadata": {},
   "outputs": [
    {
     "ename": "NameError",
     "evalue": "name 'ab_ag_annotated' is not defined",
     "output_type": "error",
     "traceback": [
      "\u001b[31m---------------------------------------------------------------------------\u001b[39m",
      "\u001b[31mNameError\u001b[39m                                 Traceback (most recent call last)",
      "\u001b[36mCell\u001b[39m\u001b[36m \u001b[39m\u001b[32mIn[1]\u001b[39m\u001b[32m, line 2\u001b[39m\n\u001b[32m      1\u001b[39m \u001b[38;5;66;03m#Kopie des annotated datensatzes erstellen\u001b[39;00m\n\u001b[32m----> \u001b[39m\u001b[32m2\u001b[39m ab_ag_annotated_copy = \u001b[43mab_ag_annotated\u001b[49m.copy()\n\u001b[32m      3\u001b[39m \u001b[38;5;66;03m#anzahl der einträge vor der Löschung zur Kontrolle\u001b[39;00m\n\u001b[32m      4\u001b[39m count_beforedeletion = \u001b[38;5;28mlen\u001b[39m(ab_ag_annotated_copy)\n",
      "\u001b[31mNameError\u001b[39m: name 'ab_ag_annotated' is not defined"
     ]
    }
   ],
   "source": [
    "#Kopie des annotated datensatzes erstellen\n",
    "ab_ag_annotated_copy = ab_ag_annotated.copy()\n",
    "#anzahl der einträge vor der Löschung zur Kontrolle\n",
    "count_beforedeletion = len(ab_ag_annotated_copy)\n",
    "#löschung der einträge mit identischer sequenz\n",
    "ab_ag_uniquesequences = ab_ag_annotated_copy.drop_duplicates(subset=[\n",
    "            'pdb', 'CDR_H1','CDR_H2','CDR_H3'\n",
    "            'CDR_L1', 'CDR_L2', 'CDR_L3'\n",
    "            ] )\n",
    "#anzahl der einträge nach der löschung zur Kontrolle\n",
    "duplicates_removed = count_beforedeletion - len(ab_ag_uniquesequences)\n",
    "#mit f\" können variablen in strings eingebaut werden\n",
    "print(f\"Anzahl gelöschter Einträge beträgt: {duplicates_removed}\")"
   ]
  }
 ],
 "metadata": {
  "kernelspec": {
   "display_name": "Python 3",
   "language": "python",
   "name": "python3"
  },
  "language_info": {
   "codemirror_mode": {
    "name": "ipython",
    "version": 3
   },
   "file_extension": ".py",
   "mimetype": "text/x-python",
   "name": "python",
   "nbconvert_exporter": "python",
   "pygments_lexer": "ipython3",
   "version": "3.11.11"
  }
 },
 "nbformat": 4,
 "nbformat_minor": 5
}
