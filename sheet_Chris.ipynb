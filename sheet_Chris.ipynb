{
 "cells": [
  {
   "cell_type": "code",
   "execution_count": 7,
   "id": "ad20c758",
   "metadata": {},
   "outputs": [],
   "source": [
    "# Notebook vorbereiten\n",
    "import pandas as pd\n",
    "import numpy as np\n",
    "import matplotlib.pyplot as plt\n",
    "import seaborn as sns\n",
    "import os\n",
    "import shutil \n",
    "ab_ag_raw = pd.read_csv('data/ab_ag.tsv', sep='\\t')\n",
    "columns = pd.read_csv('data/columns.tsv', sep='\\t')\n",
    "uniprot_data = pd.read_csv('data/uniprot_data.tsv', sep='\\t')\n",
    "\n",
    "# ab_ag aus ab_ag_raw aufbereiten\n",
    "ab_ag = ab_ag_raw[[\"pdb\", \"Hchain\", \"Lchain\", \"model\", \"antigen_chain\", \"antigen_name\", \"antigen_species\"]].copy()\n",
    "\n",
    "# Füge Spalten für die CDR-Sequenzen in ab_ag hinzu\n",
    "ab_ag[\"CDR_H1\"] = np.nan\n",
    "ab_ag[\"CDR_H2\"] = np.nan\n",
    "ab_ag[\"CDR_H3\"] = np.nan\n",
    "ab_ag[\"CDR_L1\"] = np.nan\n",
    "ab_ag[\"CDR_L2\"] = np.nan\n",
    "ab_ag[\"CDR_L3\"] = np.nan\n",
    "# Entferne Einträge ohne Antigennamen\n",
    "ab_ag.dropna(subset=[\"antigen_chain\"], inplace=True)\n",
    "\n",
    "# Ich hab aus Versehen das Code-Feld gelöscht! Code von Anna für doppelte pdb Einträge zurückholen!\n",
    "\n",
    "\n",
    "\n",
    "#Überarbeiteter Code zum Herunterladen der Antikörpersequenzen. Direkt in ab_ag_raw speichern\n",
    "# Funktionen aus dem sabdab_downloader importieren\n",
    "from common.sabdab_downloader import getannotation\n",
    "\n",
    "# Definiere CDR-Regionen als slices für die H- und L-Ketten (Literatur überprüfen, ob die Indizes korrekt sind!)\n",
    "cdr_regions = {\n",
    "        \"H1\": slice(26, 32),\n",
    "        \"H2\": slice(52, 56),\n",
    "        \"H3\": slice(95, 102),\n",
    "        \"L1\": slice(24, 34),\n",
    "        \"L2\": slice(50, 56),\n",
    "        \"L3\": slice(89, 97)\n",
    "}\n",
    "\n",
    "# Erstelle eine Liste mit allen PDB-Einträgen aus ab_ag (enthält Duplikate)\n",
    "pdb_entries = ab_ag[\"pdb\"].tolist()\n",
    "\n",
    "# Lade die Chothia-Daten und Chothia-nummerierten Sequenzen für jeden PDB-Eintrag herunter und speichere sie im Ordner des entsprechenden PDB-Eintrags\n",
    "for x in range(0,50): # Testlauf, nur die ersten 5 PDB-Einträge\n",
    "    # Zeilenweise Einträge für den aktuellen PDB-Eintrag extrahieren (für die Chothia-annotierten Sequenzen)\n",
    "    fab_list = ab_ag.iloc[x,0:4].values.tolist()\n",
    "    pdb = fab_list[0] # PDB-ID aus der Liste extrahieren\n",
    "    # Erstelle den Ordner für die Chothia-annotierte Sequenz des PDB-Eintrags, falls er nicht existiert\n",
    "    if not os.path.exists(f\"data/sabdab_download/{pdb}\"):\n",
    "        os.makedirs(f\"data/sabdab_download/{pdb}\")\n",
    "    # Lade die Chothia-nummerierten Sequenzen herunter oder gib eine Fehlermeldung für entsprechende PDB-Einträge aus\n",
    "\n"
   ]
  }
 ],
 "metadata": {
  "kernelspec": {
   "display_name": "Python 3",
   "language": "python",
   "name": "python3"
  },
  "language_info": {
   "codemirror_mode": {
    "name": "ipython",
    "version": 3
   },
   "file_extension": ".py",
   "mimetype": "text/x-python",
   "name": "python",
   "nbconvert_exporter": "python",
   "pygments_lexer": "ipython3",
   "version": "3.13.3"
  }
 },
 "nbformat": 4,
 "nbformat_minor": 5
}
