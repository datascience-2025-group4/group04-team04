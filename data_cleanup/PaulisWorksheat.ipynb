{
 "cells": [
  {
   "cell_type": "code",
   "execution_count": 3,
   "id": "e8cbfab8",
   "metadata": {},
   "outputs": [
    {
     "name": "stdout",
     "output_type": "stream",
     "text": [
      "Requirement already satisfied: esm in /opt/anaconda3/lib/python3.12/site-packages (3.2.0)\n",
      "Requirement already satisfied: torch>=2.2.0 in /opt/anaconda3/lib/python3.12/site-packages (from esm) (2.2.2)\n",
      "Requirement already satisfied: torchvision in /opt/anaconda3/lib/python3.12/site-packages (from esm) (0.17.2)\n",
      "Requirement already satisfied: torchtext in /opt/anaconda3/lib/python3.12/site-packages (from esm) (0.17.2)\n",
      "Requirement already satisfied: transformers<4.48.2 in /opt/anaconda3/lib/python3.12/site-packages (from esm) (4.48.1)\n",
      "Requirement already satisfied: ipython in /opt/anaconda3/lib/python3.12/site-packages (from esm) (8.27.0)\n",
      "Requirement already satisfied: einops in /opt/anaconda3/lib/python3.12/site-packages (from esm) (0.8.1)\n",
      "Requirement already satisfied: biotite>=1.0.0 in /opt/anaconda3/lib/python3.12/site-packages (from esm) (1.3.0)\n",
      "Requirement already satisfied: msgpack-numpy in /opt/anaconda3/lib/python3.12/site-packages (from esm) (0.4.8)\n",
      "Requirement already satisfied: biopython in /opt/anaconda3/lib/python3.12/site-packages (from esm) (1.85)\n",
      "Requirement already satisfied: scikit-learn in /opt/anaconda3/lib/python3.12/site-packages (from esm) (1.5.1)\n",
      "Requirement already satisfied: brotli in /opt/anaconda3/lib/python3.12/site-packages (from esm) (1.0.9)\n",
      "Requirement already satisfied: attrs in /opt/anaconda3/lib/python3.12/site-packages (from esm) (23.1.0)\n",
      "Requirement already satisfied: pandas in /opt/anaconda3/lib/python3.12/site-packages (from esm) (2.2.2)\n",
      "Requirement already satisfied: cloudpathlib in /opt/anaconda3/lib/python3.12/site-packages (from esm) (0.21.1)\n",
      "Requirement already satisfied: tenacity in /opt/anaconda3/lib/python3.12/site-packages (from esm) (8.2.3)\n",
      "Requirement already satisfied: zstd in /opt/anaconda3/lib/python3.12/site-packages (from esm) (1.5.7.0)\n",
      "Requirement already satisfied: biotraj<2.0,>=1.0 in /opt/anaconda3/lib/python3.12/site-packages (from biotite>=1.0.0->esm) (1.2.2)\n",
      "Requirement already satisfied: msgpack>=0.5.6 in /opt/anaconda3/lib/python3.12/site-packages (from biotite>=1.0.0->esm) (1.0.3)\n",
      "Requirement already satisfied: networkx>=2.0 in /opt/anaconda3/lib/python3.12/site-packages (from biotite>=1.0.0->esm) (3.3)\n",
      "Requirement already satisfied: numpy>=1.25 in /opt/anaconda3/lib/python3.12/site-packages (from biotite>=1.0.0->esm) (1.26.4)\n",
      "Requirement already satisfied: packaging>=24.0 in /opt/anaconda3/lib/python3.12/site-packages (from biotite>=1.0.0->esm) (24.1)\n",
      "Requirement already satisfied: requests>=2.12 in /opt/anaconda3/lib/python3.12/site-packages (from biotite>=1.0.0->esm) (2.32.3)\n",
      "Requirement already satisfied: filelock in /opt/anaconda3/lib/python3.12/site-packages (from torch>=2.2.0->esm) (3.13.1)\n",
      "Requirement already satisfied: typing-extensions>=4.8.0 in /opt/anaconda3/lib/python3.12/site-packages (from torch>=2.2.0->esm) (4.11.0)\n",
      "Requirement already satisfied: sympy in /opt/anaconda3/lib/python3.12/site-packages (from torch>=2.2.0->esm) (1.13.3)\n",
      "Requirement already satisfied: jinja2 in /opt/anaconda3/lib/python3.12/site-packages (from torch>=2.2.0->esm) (3.1.4)\n",
      "Requirement already satisfied: fsspec in /opt/anaconda3/lib/python3.12/site-packages (from torch>=2.2.0->esm) (2024.6.1)\n",
      "Requirement already satisfied: huggingface-hub<1.0,>=0.24.0 in /opt/anaconda3/lib/python3.12/site-packages (from transformers<4.48.2->esm) (0.32.2)\n",
      "Requirement already satisfied: pyyaml>=5.1 in /opt/anaconda3/lib/python3.12/site-packages (from transformers<4.48.2->esm) (6.0.1)\n",
      "Requirement already satisfied: regex!=2019.12.17 in /opt/anaconda3/lib/python3.12/site-packages (from transformers<4.48.2->esm) (2024.9.11)\n",
      "Requirement already satisfied: tokenizers<0.22,>=0.21 in /opt/anaconda3/lib/python3.12/site-packages (from transformers<4.48.2->esm) (0.21.1)\n",
      "Requirement already satisfied: safetensors>=0.4.1 in /opt/anaconda3/lib/python3.12/site-packages (from transformers<4.48.2->esm) (0.5.3)\n",
      "Requirement already satisfied: tqdm>=4.27 in /opt/anaconda3/lib/python3.12/site-packages (from transformers<4.48.2->esm) (4.66.5)\n",
      "Requirement already satisfied: decorator in /opt/anaconda3/lib/python3.12/site-packages (from ipython->esm) (5.1.1)\n",
      "Requirement already satisfied: jedi>=0.16 in /opt/anaconda3/lib/python3.12/site-packages (from ipython->esm) (0.19.1)\n",
      "Requirement already satisfied: matplotlib-inline in /opt/anaconda3/lib/python3.12/site-packages (from ipython->esm) (0.1.6)\n",
      "Requirement already satisfied: prompt-toolkit<3.1.0,>=3.0.41 in /opt/anaconda3/lib/python3.12/site-packages (from ipython->esm) (3.0.43)\n",
      "Requirement already satisfied: pygments>=2.4.0 in /opt/anaconda3/lib/python3.12/site-packages (from ipython->esm) (2.15.1)\n",
      "Requirement already satisfied: stack-data in /opt/anaconda3/lib/python3.12/site-packages (from ipython->esm) (0.2.0)\n",
      "Requirement already satisfied: traitlets>=5.13.0 in /opt/anaconda3/lib/python3.12/site-packages (from ipython->esm) (5.14.3)\n",
      "Requirement already satisfied: pexpect>4.3 in /opt/anaconda3/lib/python3.12/site-packages (from ipython->esm) (4.8.0)\n",
      "Requirement already satisfied: python-dateutil>=2.8.2 in /opt/anaconda3/lib/python3.12/site-packages (from pandas->esm) (2.9.0.post0)\n",
      "Requirement already satisfied: pytz>=2020.1 in /opt/anaconda3/lib/python3.12/site-packages (from pandas->esm) (2024.1)\n",
      "Requirement already satisfied: tzdata>=2022.7 in /opt/anaconda3/lib/python3.12/site-packages (from pandas->esm) (2023.3)\n",
      "Requirement already satisfied: scipy>=1.6.0 in /opt/anaconda3/lib/python3.12/site-packages (from scikit-learn->esm) (1.13.1)\n",
      "Requirement already satisfied: joblib>=1.2.0 in /opt/anaconda3/lib/python3.12/site-packages (from scikit-learn->esm) (1.4.2)\n",
      "Requirement already satisfied: threadpoolctl>=3.1.0 in /opt/anaconda3/lib/python3.12/site-packages (from scikit-learn->esm) (3.5.0)\n",
      "Requirement already satisfied: pillow!=8.3.*,>=5.3.0 in /opt/anaconda3/lib/python3.12/site-packages (from torchvision->esm) (10.4.0)\n",
      "Requirement already satisfied: hf-xet<2.0.0,>=1.1.2 in /opt/anaconda3/lib/python3.12/site-packages (from huggingface-hub<1.0,>=0.24.0->transformers<4.48.2->esm) (1.1.2)\n",
      "Requirement already satisfied: parso<0.9.0,>=0.8.3 in /opt/anaconda3/lib/python3.12/site-packages (from jedi>=0.16->ipython->esm) (0.8.3)\n",
      "Requirement already satisfied: ptyprocess>=0.5 in /opt/anaconda3/lib/python3.12/site-packages (from pexpect>4.3->ipython->esm) (0.7.0)\n",
      "Requirement already satisfied: wcwidth in /opt/anaconda3/lib/python3.12/site-packages (from prompt-toolkit<3.1.0,>=3.0.41->ipython->esm) (0.2.5)\n",
      "Requirement already satisfied: six>=1.5 in /opt/anaconda3/lib/python3.12/site-packages (from python-dateutil>=2.8.2->pandas->esm) (1.16.0)\n",
      "Requirement already satisfied: charset-normalizer<4,>=2 in /opt/anaconda3/lib/python3.12/site-packages (from requests>=2.12->biotite>=1.0.0->esm) (3.3.2)\n",
      "Requirement already satisfied: idna<4,>=2.5 in /opt/anaconda3/lib/python3.12/site-packages (from requests>=2.12->biotite>=1.0.0->esm) (3.7)\n",
      "Requirement already satisfied: urllib3<3,>=1.21.1 in /opt/anaconda3/lib/python3.12/site-packages (from requests>=2.12->biotite>=1.0.0->esm) (2.2.3)\n",
      "Requirement already satisfied: certifi>=2017.4.17 in /opt/anaconda3/lib/python3.12/site-packages (from requests>=2.12->biotite>=1.0.0->esm) (2025.4.26)\n",
      "Requirement already satisfied: MarkupSafe>=2.0 in /opt/anaconda3/lib/python3.12/site-packages (from jinja2->torch>=2.2.0->esm) (2.1.3)\n",
      "Requirement already satisfied: executing in /opt/anaconda3/lib/python3.12/site-packages (from stack-data->ipython->esm) (0.8.3)\n",
      "Requirement already satisfied: asttokens in /opt/anaconda3/lib/python3.12/site-packages (from stack-data->ipython->esm) (2.0.5)\n",
      "Requirement already satisfied: pure-eval in /opt/anaconda3/lib/python3.12/site-packages (from stack-data->ipython->esm) (0.2.2)\n",
      "Requirement already satisfied: mpmath<1.4,>=1.1.0 in /opt/anaconda3/lib/python3.12/site-packages (from sympy->torch>=2.2.0->esm) (1.3.0)\n",
      "Requirement already satisfied: matplotlib in /opt/anaconda3/lib/python3.12/site-packages (3.9.2)\n",
      "Requirement already satisfied: contourpy>=1.0.1 in /opt/anaconda3/lib/python3.12/site-packages (from matplotlib) (1.2.0)\n",
      "Requirement already satisfied: cycler>=0.10 in /opt/anaconda3/lib/python3.12/site-packages (from matplotlib) (0.11.0)\n",
      "Requirement already satisfied: fonttools>=4.22.0 in /opt/anaconda3/lib/python3.12/site-packages (from matplotlib) (4.51.0)\n",
      "Requirement already satisfied: kiwisolver>=1.3.1 in /opt/anaconda3/lib/python3.12/site-packages (from matplotlib) (1.4.4)\n",
      "Requirement already satisfied: numpy>=1.23 in /opt/anaconda3/lib/python3.12/site-packages (from matplotlib) (1.26.4)\n",
      "Requirement already satisfied: packaging>=20.0 in /opt/anaconda3/lib/python3.12/site-packages (from matplotlib) (24.1)\n",
      "Requirement already satisfied: pillow>=8 in /opt/anaconda3/lib/python3.12/site-packages (from matplotlib) (10.4.0)\n",
      "Requirement already satisfied: pyparsing>=2.3.1 in /opt/anaconda3/lib/python3.12/site-packages (from matplotlib) (3.1.2)\n",
      "Requirement already satisfied: python-dateutil>=2.7 in /opt/anaconda3/lib/python3.12/site-packages (from matplotlib) (2.9.0.post0)\n",
      "Requirement already satisfied: six>=1.5 in /opt/anaconda3/lib/python3.12/site-packages (from python-dateutil>=2.7->matplotlib) (1.16.0)\n"
     ]
    }
   ],
   "source": [
    "\n",
    "# Install esm and other dependencies\n",
    "! pip install esm\n",
    "! pip install matplotlib\n",
    "\n",
    "\n"
   ]
  },
  {
   "cell_type": "code",
   "execution_count": 4,
   "id": "130c770f",
   "metadata": {},
   "outputs": [],
   "source": [
    "#Set up Forge client for ESM C\n",
    "from getpass import getpass\n",
    "from esm.sdk import client\n",
    "\n",
    "model = client(\n",
    "    model=\"esmc-300m-2024-12\", url=\"https://forge.evolutionaryscale.ai\", token='1tZMaSRNt8PiudZrSQvq1p'\n",
    ")"
   ]
  },
  {
   "cell_type": "code",
   "execution_count": 5,
   "id": "8a6b12aa",
   "metadata": {},
   "outputs": [],
   "source": [
    "\n",
    "from concurrent.futures import ThreadPoolExecutor\n",
    "from typing import Sequence\n",
    "\n",
    "from esm.sdk.api import (\n",
    "    ESM3InferenceClient,\n",
    "    ESMProtein,\n",
    "    ESMProteinError,\n",
    "    LogitsConfig,\n",
    "    LogitsOutput,\n",
    "    ProteinType,\n",
    ")\n",
    "\n",
    "EMBEDDING_CONFIG = LogitsConfig(\n",
    "    sequence=True, return_embeddings=True, return_hidden_states=True\n",
    ")\n",
    "\n",
    "\n",
    "def embed_sequence(model: ESM3InferenceClient, sequence: str) -> LogitsOutput:\n",
    "    protein = ESMProtein(sequence=sequence)\n",
    "    protein_tensor = model.encode(protein)\n",
    "    output = output = model.logits(protein_tensor, EMBEDDING_CONFIG)\n",
    "    return output\n",
    "\n",
    "\n",
    "def batch_embed(\n",
    "    model: ESM3InferenceClient, inputs: Sequence[ProteinType]\n",
    ") -> Sequence[LogitsOutput]:\n",
    "    \"\"\"Forge supports auto-batching. So batch_embed() is as simple as running a collection\n",
    "    of embed calls in parallel using asyncio.\n",
    "    \"\"\"\n",
    "    with ThreadPoolExecutor() as executor:\n",
    "        futures = [\n",
    "            executor.submit(embed_sequence, model, protein) for protein in inputs\n",
    "        ]\n",
    "        results = []\n",
    "        for future in futures:\n",
    "            try:\n",
    "                results.append(future.result())\n",
    "            except Exception as e:\n",
    "                results.append(ESMProteinError(500, str(e)))\n",
    "    return results"
   ]
  },
  {
   "cell_type": "code",
   "execution_count": 6,
   "id": "66ad9ac2",
   "metadata": {},
   "outputs": [],
   "source": [
    "ESMC_6B_EMBEDDING_CONFIG = LogitsConfig(return_hidden_states=True, ith_hidden_layer=55)"
   ]
  },
  {
   "cell_type": "code",
   "execution_count": null,
   "id": "12a515d5",
   "metadata": {},
   "outputs": [
    {
     "ename": "",
     "evalue": "",
     "output_type": "error",
     "traceback": [
      "\u001b[1;31mThe Kernel crashed while executing code in the current cell or a previous cell. \n",
      "\u001b[1;31mPlease review the code in the cell(s) to identify a possible cause of the failure. \n",
      "\u001b[1;31mClick <a href='https://aka.ms/vscodeJupyterKernelCrash'>here</a> for more info. \n",
      "\u001b[1;31mView Jupyter <a href='command:jupyter.viewOutput'>log</a> for further details."
     ]
    }
   ],
   "source": [
    "\n",
    "import matplotlib.pyplot as plt\n",
    "import pandas as pd\n",
    "import seaborn as sns\n",
    "\n",
    "adk_path = \"data/ab_ag_annotated_with_CDR_strings.tsv\"\n",
    "\n",
    "df = pd.read_csv(adk_path, sep=\"\\t\")\n",
    "df = df[[\"CDR_H1_string\", \"CDR_H2_string\", \"CDR_L1_string\", \"CDR_L2_string\", \"CDR_L3_string\",\"antigen_name\"]]\n"
   ]
  },
  {
   "cell_type": "code",
   "execution_count": null,
   "id": "2d678734",
   "metadata": {},
   "outputs": [],
   "source": [
    "outputs = batch_embed(model, df[\"CDR_H1_string\"].tolist())"
   ]
  },
  {
   "cell_type": "code",
   "execution_count": null,
   "id": "4eda3c35",
   "metadata": {},
   "outputs": [
    {
     "name": "stdout",
     "output_type": "stream",
     "text": [
      "['__annotations__', '__attrs_attrs__', '__attrs_own_setattr__', '__class__', '__delattr__', '__dir__', '__doc__', '__eq__', '__format__', '__ge__', '__getattribute__', '__getstate__', '__gt__', '__hash__', '__init__', '__init_subclass__', '__le__', '__lt__', '__match_args__', '__module__', '__ne__', '__new__', '__reduce__', '__reduce_ex__', '__repr__', '__setattr__', '__setstate__', '__sizeof__', '__slots__', '__str__', '__subclasshook__', '__weakref__', 'embeddings', 'hidden_states', 'logits', 'residue_annotation_logits']\n"
     ]
    }
   ],
   "source": [
    "print(dir(outputs[0]))\n"
   ]
  },
  {
   "cell_type": "code",
   "execution_count": null,
   "id": "91a9cc49",
   "metadata": {},
   "outputs": [
    {
     "ename": "NameError",
     "evalue": "name 'outputs' is not defined",
     "output_type": "error",
     "traceback": [
      "\u001b[0;31m---------------------------------------------------------------------------\u001b[0m",
      "\u001b[0;31mNameError\u001b[0m                                 Traceback (most recent call last)",
      "Cell \u001b[0;32mIn[2], line 9\u001b[0m\n\u001b[1;32m      7\u001b[0m count \u001b[38;5;241m=\u001b[39m \u001b[38;5;241m-\u001b[39m\u001b[38;5;241m1\u001b[39m\n\u001b[1;32m      8\u001b[0m all_mean_embeddings \u001b[38;5;241m=\u001b[39m []\n\u001b[0;32m----> 9\u001b[0m \u001b[38;5;28;01mfor\u001b[39;00m output \u001b[38;5;129;01min\u001b[39;00m outputs:\n\u001b[1;32m     10\u001b[0m     count \u001b[38;5;241m+\u001b[39m\u001b[38;5;241m=\u001b[39m \u001b[38;5;241m1\u001b[39m\n\u001b[1;32m     11\u001b[0m     \u001b[38;5;28;01mtry\u001b[39;00m:\n",
      "\u001b[0;31mNameError\u001b[0m: name 'outputs' is not defined"
     ]
    }
   ],
   "source": [
    "\n",
    "import torch\n",
    "\n",
    "# we'll summarize the embeddings using their mean across the sequence dimension\n",
    "# which allows us to compare embeddings for sequences of different lengths\n",
    "#alt : output.representations[33].mean(dim=1).squeeze()\n",
    "\n",
    "count = -1\n",
    "all_mean_embeddings = []\n",
    "for output in outputs:\n",
    "    count += 1\n",
    "    try:\n",
    "        all_mean_embeddings.append(output.hidden_states.mean(dim=-2).squeeze())\n",
    "    except AttributeError as e:\n",
    "        print(f\"Error processing output {count}: {e}\")\n",
    "        continue\n",
    "\n",
    "print(\"embedding shape [num_layers, hidden_size]:\", all_mean_embeddings[0].shape)"
   ]
  },
  {
   "cell_type": "code",
   "execution_count": null,
   "id": "610e46f4",
   "metadata": {},
   "outputs": [
    {
     "ename": "NameError",
     "evalue": "name 'torch' is not defined",
     "output_type": "error",
     "traceback": [
      "\u001b[0;31m---------------------------------------------------------------------------\u001b[0m",
      "\u001b[0;31mNameError\u001b[0m                                 Traceback (most recent call last)",
      "Cell \u001b[0;32mIn[1], line 8\u001b[0m\n\u001b[1;32m      3\u001b[0m \u001b[38;5;28;01mfrom\u001b[39;00m \u001b[38;5;21;01msklearn\u001b[39;00m\u001b[38;5;21;01m.\u001b[39;00m\u001b[38;5;21;01mmetrics\u001b[39;00m \u001b[38;5;28;01mimport\u001b[39;00m adjusted_rand_score\n\u001b[1;32m      5\u001b[0m N_KMEANS_CLUSTERS \u001b[38;5;241m=\u001b[39m \u001b[38;5;241m3\u001b[39m\n\u001b[0;32m----> 8\u001b[0m \u001b[38;5;28;01mdef\u001b[39;00m \u001b[38;5;21mplot_embeddings_at_layer\u001b[39m(all_mean_embeddings: torch\u001b[38;5;241m.\u001b[39mTensor, layer_idx: \u001b[38;5;28mint\u001b[39m):\n\u001b[1;32m      9\u001b[0m     stacked_mean_embeddings \u001b[38;5;241m=\u001b[39m torch\u001b[38;5;241m.\u001b[39mstack(\n\u001b[1;32m     10\u001b[0m         [embedding[layer_idx, :] \u001b[38;5;28;01mfor\u001b[39;00m embedding \u001b[38;5;129;01min\u001b[39;00m all_mean_embeddings]\n\u001b[1;32m     11\u001b[0m     )\u001b[38;5;241m.\u001b[39mnumpy()\n\u001b[1;32m     13\u001b[0m     \u001b[38;5;66;03m# project all the embeddings to 2D using PCA\u001b[39;00m\n",
      "\u001b[0;31mNameError\u001b[0m: name 'torch' is not defined"
     ]
    }
   ],
   "source": [
    "from sklearn.cluster import KMeans\n",
    "from sklearn.decomposition import PCA\n",
    "from sklearn.metrics import adjusted_rand_score\n",
    "\n",
    "N_KMEANS_CLUSTERS = 3\n",
    "     \n",
    "\n",
    "def plot_embeddings_at_layer(all_mean_embeddings: torch.Tensor, layer_idx: int):\n",
    "    stacked_mean_embeddings = torch.stack(\n",
    "        [embedding[layer_idx, :] for embedding in all_mean_embeddings]\n",
    "    ).numpy()\n",
    "\n",
    "    # project all the embeddings to 2D using PCA\n",
    "    pca = PCA(n_components=2)\n",
    "    pca.fit(stacked_mean_embeddings)\n",
    "    projected_mean_embeddings = pca.transform(stacked_mean_embeddings)\n",
    "\n",
    "    # compute kmeans purity as a measure of how good the clustering is\n",
    "    kmeans = KMeans(n_clusters=N_KMEANS_CLUSTERS, random_state=0).fit(\n",
    "        projected_mean_embeddings\n",
    "    )\n",
    "    rand_index = adjusted_rand_score(df[\"antigen_name\"], kmeans.labels_)\n",
    "\n",
    "    # plot the clusters\n",
    "    plt.figure(figsize=(4, 4))\n",
    "    sns.scatterplot(\n",
    "        x=projected_mean_embeddings[:, 0],\n",
    "        y=projected_mean_embeddings[:, 1],\n",
    "        hue=df[\"antigen_name\"],\n",
    "    )\n",
    "    plt.title(\n",
    "        f\"PCA of mean embeddings at layer {layer_idx}.\\nRand index: {rand_index:.2f}\"\n",
    "    )\n",
    "    plt.xlabel(\"PC 1\")\n",
    "    plt.ylabel(\"PC 2\")\n",
    "    plt.show()\n",
    "     \n",
    "\n",
    "plot_embeddings_at_layer(all_mean_embeddings, layer_idx=30)\n",
    "plot_embeddings_at_layer(all_mean_embeddings, layer_idx=12)\n",
    "     "
   ]
  },
  {
   "cell_type": "code",
   "execution_count": null,
   "id": "9f94b9f0",
   "metadata": {},
   "outputs": [],
   "source": [
    "#Quelle für ESMC\n",
    "@misc{esm2024cambrian,\n",
    "  author = {{ESM Team}},\n",
    "  title = {ESM Cambrian: Revealing the mysteries of proteins with unsupervised learning},\n",
    "  year = {2024},\n",
    "  publisher = {EvolutionaryScale Website},\n",
    "  url = {https://evolutionaryscale.ai/blog/esm-cambrian},\n",
    "  urldate = {2024-12-04}\n",
    "}"
   ]
  }
 ],
 "metadata": {
  "kernelspec": {
   "display_name": "base",
   "language": "python",
   "name": "python3"
  },
  "language_info": {
   "codemirror_mode": {
    "name": "ipython",
    "version": 3
   },
   "file_extension": ".py",
   "mimetype": "text/x-python",
   "name": "python",
   "nbconvert_exporter": "python",
   "pygments_lexer": "ipython3",
   "version": "3.12.7"
  }
 },
 "nbformat": 4,
 "nbformat_minor": 5
}
