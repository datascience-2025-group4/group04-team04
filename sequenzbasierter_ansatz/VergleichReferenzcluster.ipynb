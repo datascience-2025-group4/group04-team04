{
 "cells": [
  {
   "cell_type": "code",
   "execution_count": null,
   "id": "32fd9e38",
   "metadata": {},
   "outputs": [],
   "source": [
    "#extrahieren der canonical cluster der cdrs von unseren antikörpern aus der sabdab\n",
    "#wir brauchen die sabdab_summary file \n",
    "\n",
    "# Liste der interessanten PDBs in lowercase\n",
    "your_pdbs = set(ab_ag_uniquesequences[\"pdb\"].str.lower())\n",
    "\n",
    "# Lade nur bestimmte Spalten der TSV\n",
    "usecols = [\n",
    "    \"pdb\",\n",
    "    \"cdrh1_cluster\",\n",
    "    \"cdrh2_cluster\",\n",
    "    \"cdrh3_length\",\n",
    "    \"cdrl1_cluster\",\n",
    "    \"cdrl2_cluster\",\n",
    "    \"cdrl3_cluster\"\n",
    "]\n",
    "\n",
    "#datei laden\n",
    "sabdab = pd.read_csv(\"sabdab_summary_all.tsv\", sep='\\t', usecols=usecols)\n",
    "#das ist nicht die korrekte datei, da hier nicht die cluster der cdrs drin sind \n",
    "#hab bisher noch nicht die richtige gefunden auf sabdab\n",
    "#eventuell pylgClassify database CSV\n",
    "\n",
    "#Filtere direkt\n",
    "sabdab_filtered = sabdab[sabdab[\"pdb\"].str.lower().isin(your_pdbs)].copy()\n",
    "\n",
    "#Ergebnis\n",
    "print(f\"Anzahl PDBs mit Canonical Clusters in deinem Datensatz: {len(sabdab_filtered)}\")\n",
    "print(sabdab_filtered.head())"
   ]
  },
  {
   "cell_type": "code",
   "execution_count": null,
   "id": "58f8d80e",
   "metadata": {},
   "outputs": [],
   "source": [
    "#ARI, NMI oder V-measure als Quantitative Maße für die Qualität deines ESM-Clusterings im Vergleich zu Canonical Clustern"
   ]
  }
 ],
 "metadata": {
  "language_info": {
   "name": "python"
  }
 },
 "nbformat": 4,
 "nbformat_minor": 5
}
