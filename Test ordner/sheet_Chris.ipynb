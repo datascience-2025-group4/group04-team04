{
 "cells": [
  {
   "cell_type": "code",
   "execution_count": null,
   "id": "1ecbba5a",
   "metadata": {},
   "outputs": [],
   "source": [
    "import pandas as pd\n",
    "import numpy as np\n",
    "import matplotlib.pyplot as plt\n",
    "import os  \n",
    "\n",
    "#mit (\"../blablabla\") kommt man in den darüber liegenden Ordner\n",
    "\n",
    "ab_ag = pd.read_csv(\"data/ab_ag.tsv\", sep=\"\\t\")  \n",
    "\n",
    "print(\"Test\")\n",
    "\n"
   ]
  },
  {
   "cell_type": "code",
   "execution_count": null,
   "id": "ea72a9c4",
   "metadata": {},
   "outputs": [],
   "source": [
    "print(\"Test2\")\n",
    "print(\"Test3\")"
   ]
  }
 ],
 "metadata": {
  "kernelspec": {
   "display_name": "Python 3",
   "language": "python",
   "name": "python3"
  },
  "language_info": {
   "codemirror_mode": {
    "name": "ipython",
    "version": 3
   },
   "file_extension": ".py",
   "mimetype": "text/x-python",
   "name": "python",
   "nbconvert_exporter": "python",
   "pygments_lexer": "ipython3",
   "version": "3.13.3"
  }
 },
 "nbformat": 4,
 "nbformat_minor": 5
}
