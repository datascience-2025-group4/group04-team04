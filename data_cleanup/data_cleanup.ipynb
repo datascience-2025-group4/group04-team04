{
 "cells": [
  {
   "cell_type": "code",
   "execution_count": 1,
   "id": "1f984820",
   "metadata": {},
   "outputs": [],
   "source": [
    "# Notebook vorbereiten\n",
    "from common.functions import Notebook_vorbereiten\n",
    "ab_ag_raw, columns, uniprot_data = Notebook_vorbereiten()\n",
    "#War Strg+Shift+P --> Preferences: Open settings --> jupyter.notebookFileRoot richtig für das Problem mit dem Working Directory?"
   ]
  },
  {
   "cell_type": "code",
   "execution_count": null,
   "id": "9004cce4",
   "metadata": {},
   "outputs": [],
   "source": [
    "# Hier stand eigentlich mal Paulis Code aber der ist nicht mehr da. Steht aber noch im alten Repo. :(\n",
    "ab_ag = ab_ag_raw[[\"pdb\", \"antigen_name\", \"antigen_species\", \"Hchain\", \"Lchain\", \"antigen_chain\"]]\n",
    "\n",
    "pdb_count=ab_ag['pdb'].value_counts()\n",
    "print(pdb_count.max())\n",
    "print(pdb_count)\n",
    "\n",
    "print(\"Anzahl fehlender Werte pro Spalte:\")\n",
    "print(ab_ag.isnull().sum())\n",
    "\n",
    "# 1. Kopie des DataFrames erstellen\n",
    "ab_ag_neu = ab_ag.copy()\n",
    "\n",
    "# 2. Fehlende Werte in der Kopie entfernen\n",
    "ab_ag_neu.dropna(subset=['antigen_name'], inplace=True)\n",
    "\n",
    "# 3. Überprüfung\n",
    "print(\"Anzahl fehlender Werte nach dem Löschen:\")\n",
    "print(ab_ag_neu['antigen_name'].isnull().sum())\n",
    "print(\"Form des neuen DataFrames:\", ab_ag_neu.shape)\n",
    "\n",
    "# 4. Duplikate entfernen in pdb\n",
    "ab_ag_neu1 = ab_ag_neu.drop_duplicates(subset=['pdb'], keep='first')"
   ]
  }
 ],
 "metadata": {
  "kernelspec": {
   "display_name": "base",
   "language": "python",
   "name": "python3"
  },
  "language_info": {
   "codemirror_mode": {
    "name": "ipython",
    "version": 3
   },
   "file_extension": ".py",
   "mimetype": "text/x-python",
   "name": "python",
   "nbconvert_exporter": "python",
   "pygments_lexer": "ipython3",
   "version": "3.12.7"
  }
 },
 "nbformat": 4,
 "nbformat_minor": 5
}
