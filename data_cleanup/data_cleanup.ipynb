{
 "cells": [
  {
   "cell_type": "code",
   "execution_count": null,
   "id": "1f984820",
   "metadata": {},
   "outputs": [],
   "source": [
    "import pandas as pd\n",
    "import numpy as np\n",
    "import matplotlib.pyplot as plt\n",
    "import seaborn as sns\n",
    "ab_ag = pd.read_csv('data/ab_ag.tsv', sep='\\t')\n",
    "columns = pd.read_csv('data/columns.tsv', sep='\\t')\n",
    "uniprot_data = pd.read_csv('data/uniprot_data.tsv', sep='\\t')"
   ]
  },
  {
   "cell_type": "markdown",
   "id": "86e6ecff",
   "metadata": {},
   "source": [
    "von Marcel (bitte nicht löschen):\n",
    "\n",
    "from common.functions import Notebook_vorbereiten\n",
    "Notebook_vorbereiten()\n",
    "\n",
    "import os\n",
    "print(os.getcwd())\n",
    "\n",
    "Wenn ich den Code ausführen will in einem Code-Feld, steht da, dass common nicht als Modul gefunden wird. Warum ist das Arbeitsverzeichnis in bash und in os bicht dasselbe. Ist alles lokal und nicht mehr in OneDrive?\n",
    "\n",
    "Und data/dateiname wird auch nicht erkannt!"
   ]
  }
 ],
 "metadata": {
  "kernelspec": {
   "display_name": "base",
   "language": "python",
   "name": "python3"
  },
  "language_info": {
   "codemirror_mode": {
    "name": "ipython",
    "version": 3
   },
   "file_extension": ".py",
   "mimetype": "text/x-python",
   "name": "python",
   "nbconvert_exporter": "python",
   "pygments_lexer": "ipython3",
   "version": "3.12.7"
  }
 },
 "nbformat": 4,
 "nbformat_minor": 5
}
