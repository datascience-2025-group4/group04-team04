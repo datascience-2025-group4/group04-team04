{
 "cells": [
  {
   "cell_type": "code",
   "execution_count": 2,
   "id": "1f984820",
   "metadata": {},
   "outputs": [
    {
     "name": "stderr",
     "output_type": "stream",
     "text": [
      "C:\\Users\\marce\\AppData\\Local\\Temp\\ipykernel_13884\\1323507865.py:15: SettingWithCopyWarning: \n",
      "A value is trying to be set on a copy of a slice from a DataFrame.\n",
      "Try using .loc[row_indexer,col_indexer] = value instead\n",
      "\n",
      "See the caveats in the documentation: https://pandas.pydata.org/pandas-docs/stable/user_guide/indexing.html#returning-a-view-versus-a-copy\n",
      "  ab_ag[\"CDR_H1\"] = np.nan\n",
      "C:\\Users\\marce\\AppData\\Local\\Temp\\ipykernel_13884\\1323507865.py:16: SettingWithCopyWarning: \n",
      "A value is trying to be set on a copy of a slice from a DataFrame.\n",
      "Try using .loc[row_indexer,col_indexer] = value instead\n",
      "\n",
      "See the caveats in the documentation: https://pandas.pydata.org/pandas-docs/stable/user_guide/indexing.html#returning-a-view-versus-a-copy\n",
      "  ab_ag[\"CDR_H2\"] = np.nan\n",
      "C:\\Users\\marce\\AppData\\Local\\Temp\\ipykernel_13884\\1323507865.py:17: SettingWithCopyWarning: \n",
      "A value is trying to be set on a copy of a slice from a DataFrame.\n",
      "Try using .loc[row_indexer,col_indexer] = value instead\n",
      "\n",
      "See the caveats in the documentation: https://pandas.pydata.org/pandas-docs/stable/user_guide/indexing.html#returning-a-view-versus-a-copy\n",
      "  ab_ag[\"CDR_H3\"] = np.nan\n",
      "C:\\Users\\marce\\AppData\\Local\\Temp\\ipykernel_13884\\1323507865.py:18: SettingWithCopyWarning: \n",
      "A value is trying to be set on a copy of a slice from a DataFrame.\n",
      "Try using .loc[row_indexer,col_indexer] = value instead\n",
      "\n",
      "See the caveats in the documentation: https://pandas.pydata.org/pandas-docs/stable/user_guide/indexing.html#returning-a-view-versus-a-copy\n",
      "  ab_ag[\"CDR_L1\"] = np.nan\n",
      "C:\\Users\\marce\\AppData\\Local\\Temp\\ipykernel_13884\\1323507865.py:19: SettingWithCopyWarning: \n",
      "A value is trying to be set on a copy of a slice from a DataFrame.\n",
      "Try using .loc[row_indexer,col_indexer] = value instead\n",
      "\n",
      "See the caveats in the documentation: https://pandas.pydata.org/pandas-docs/stable/user_guide/indexing.html#returning-a-view-versus-a-copy\n",
      "  ab_ag[\"CDR_L2\"] = np.nan\n",
      "C:\\Users\\marce\\AppData\\Local\\Temp\\ipykernel_13884\\1323507865.py:20: SettingWithCopyWarning: \n",
      "A value is trying to be set on a copy of a slice from a DataFrame.\n",
      "Try using .loc[row_indexer,col_indexer] = value instead\n",
      "\n",
      "See the caveats in the documentation: https://pandas.pydata.org/pandas-docs/stable/user_guide/indexing.html#returning-a-view-versus-a-copy\n",
      "  ab_ag[\"CDR_L3\"] = np.nan\n",
      "C:\\Users\\marce\\AppData\\Local\\Temp\\ipykernel_13884\\1323507865.py:22: SettingWithCopyWarning: \n",
      "A value is trying to be set on a copy of a slice from a DataFrame\n",
      "\n",
      "See the caveats in the documentation: https://pandas.pydata.org/pandas-docs/stable/user_guide/indexing.html#returning-a-view-versus-a-copy\n",
      "  ab_ag.dropna(subset=[\"antigen_chain\"], inplace=True)\n"
     ]
    }
   ],
   "source": [
    "# Notebook vorbereiten\n",
    "import pandas as pd\n",
    "import numpy as np\n",
    "import matplotlib.pyplot as plt\n",
    "import seaborn as sns\n",
    "import os\n",
    "import shutil \n",
    "ab_ag_raw = pd.read_csv('data/ab_ag.tsv', sep='\\t')\n",
    "columns = pd.read_csv('data/columns.tsv', sep='\\t')\n",
    "uniprot_data = pd.read_csv('data/uniprot_data.tsv', sep='\\t')\n",
    "\n",
    "# ab_ag aus ab_ag_raw aufbereiten\n",
    "ab_ag = ab_ag_raw[[\"pdb\", \"Hchain\", \"Lchain\", \"model\", \"antigen_chain\", \"antigen_name\", \"antigen_species\"]]\n",
    "# Füge Spalten für die CDR-Sequenzen in ab_ag hinzu\n",
    "ab_ag[\"CDR_H1\"] = np.nan\n",
    "ab_ag[\"CDR_H2\"] = np.nan\n",
    "ab_ag[\"CDR_H3\"] = np.nan\n",
    "ab_ag[\"CDR_L1\"] = np.nan\n",
    "ab_ag[\"CDR_L2\"] = np.nan\n",
    "ab_ag[\"CDR_L3\"] = np.nan\n",
    "# Entferne Einträge ohne Antigennamen\n",
    "ab_ag.dropna(subset=[\"antigen_chain\"], inplace=True)\n",
    "\n",
    "# Ich hab aus Versehen das Code-Feld gelöscht! Code von Anna für doppelte pdb Einträge zurückholen!"
   ]
  },
  {
   "cell_type": "code",
   "execution_count": 8,
   "id": "f56aec97",
   "metadata": {},
   "outputs": [
    {
     "name": "stdout",
     "output_type": "stream",
     "text": [
      "[['9ds2', 'G', 'I', 0]]\n",
      "['9ds2', 'G', 'I', 0]\n",
      "Could not download Chothia-annotated sequence for 9ds2: Must have equal len keys and value when setting with an iterable\n"
     ]
    }
   ],
   "source": [
    "# Überarbeiteter Code zum Herunterladen der Antikörpersequenzen. Direkt in ab_ag_raw speichern\n",
    "# Funktionen aus dem sabdab_downloader importieren\n",
    "from common.sabdab_downloader import getannotation\n",
    "\n",
    "# Definiere CDR-Regionen als slices für die H- und L-Ketten (Literatur überprüfen, ob die Indizes korrekt sind!)\n",
    "cdr_regions = {\n",
    "        \"H1\": slice(26, 32),\n",
    "        \"H2\": slice(52, 56),\n",
    "        \"H3\": slice(95, 102),\n",
    "        \"L1\": slice(24, 34),\n",
    "        \"L2\": slice(50, 56),\n",
    "        \"L3\": slice(89, 97)\n",
    "}\n",
    "\n",
    "# Erstelle eine Liste mit allen PDB-Einträgen aus ab_ag (enthält Duplikate)\n",
    "pdb_entries = ab_ag[\"pdb\"].tolist()\n",
    "\n",
    "# Lade die Chothia-Daten und Chothia-nummerierten Sequenzen für jeden PDB-Eintrag herunter und speichere sie im Ordner des entsprechenden PDB-Eintrags\n",
    "for x in range(0,1): # Testlauf, nur die ersten 5 PDB-Einträge\n",
    "    # Zeilenweise Einträge für den aktuellen PDB-Eintrag extrahieren (für die Chothia-annotierten Sequenzen)\n",
    "    fab_unique = ab_ag.iloc[x,0:4].values.tolist()\n",
    "    pdb = fab_unique[0] # PDB-ID aus der Liste extrahieren\n",
    "    # Erstelle den Ordner für die Chothia-annotierte Sequenz des PDB-Eintrags, falls er nicht existiert\n",
    "    if not os.path.exists(f\"data/sabdab_download/{pdb}\"):\n",
    "        os.makedirs(f\"data/sabdab_download/{pdb}\")\n",
    "    # Lade die Chothia-nummerierten Sequenzen herunter oder gib eine Fehlermeldung für entsprechende PDB-Einträge aus. getanntation erwartet als zweites Argument\n",
    "    # eine Liste aus einer oder mehreren Listen. Wir benutzen pro Zeile in ab_ag jeweils eine Liste, die eine einzige Liste enthält.\n",
    "    try:\n",
    "        getannotation(pdb, [fab_unique], f\"data/sabdab_download/{pdb}\")\n",
    "        # Extrahiere die CDR-Sequenzen aus den heruntergeladenen Chothia-annotierten Sequenzen und speichere sie in ab_ag\n",
    "        # Speichere jede .ann-Datei in einm DataFrame\n",
    "        VH_chothia_seq = pd.read_csv(f\"data/sabdab_download/{pdb}/{pdb}_{fab_unique[1]}_VH.ann\", sep='\\t', header=None, names=['Chothia_Position', 'Aminosäure'])\n",
    "        VL_chothia_seq = pd.read_csv(f\"data/sabdab_download/{pdb}/{pdb}_{fab_unique[2]}_VL.ann\", sep='\\t', header=None, names=['Chothia_Position', 'Aminosäure'])\n",
    "        # Extrahiere die CDR-Sequenzen aus den Chothia-annotierten Sequenzen\n",
    "        H1_seq = VH_chothia_seq.loc[cdr_regions[\"H1\"], \"Aminosäure\"].tolist()\n",
    "        ab_ag.at[x, \"CDR_H1\"] = H1_seq\n",
    "        H2_seq = VH_chothia_seq.loc[cdr_regions[\"H2\"], \"Aminosäure\"].tolist()\n",
    "        ab_ag.at[x, \"CDR_H2\"] = H2_seq\n",
    "        H3_seq = VH_chothia_seq.loc[cdr_regions[\"H3\"], \"Aminosäure\"].tolist()\n",
    "        ab_ag.at[x, \"CDR_H3\"] = H3_seq\n",
    "        L1_seq = VL_chothia_seq.loc[cdr_regions[\"L1\"], \"Aminosäure\"].tolist()\n",
    "        ab_ag.at[x, \"CDR_L1\"] = L1_seq\n",
    "        L2_seq = VL_chothia_seq.loc[cdr_regions[\"L2\"], \"Aminosäure\"].tolist()\n",
    "        ab_ag.at[x, \"CDR_L2\"] = L2_seq\n",
    "        L3_seq = VL_chothia_seq.loc[cdr_regions[\"L3\"], \"Aminosäure\"].tolist()\n",
    "        ab_ag.at[x, \"CDR_L3\"] = L3_seq\n",
    "    except Exception as e:\n",
    "        print(f\"Could not download Chothia-annotated sequence for {pdb}: {e}\")\n",
    "    shutil.rmtree(f\"data/sabdab_download/{pdb}\")  # Lösche den Ordner, nachdem die Sequenzen extrahiert wurden"
   ]
  },
  {
   "cell_type": "code",
   "execution_count": null,
   "id": "5adb98bc",
   "metadata": {},
   "outputs": [
    {
     "name": "stdout",
     "output_type": "stream",
     "text": [
      "[['9ds2', 'G', 'I', 0]]\n",
      "['9ds2', 'G', 'I', 0]\n"
     ]
    },
    {
     "ename": "ValueError",
     "evalue": "Must have equal len keys and value when setting with an iterable",
     "output_type": "error",
     "traceback": [
      "\u001b[1;31m---------------------------------------------------------------------------\u001b[0m",
      "\u001b[1;31mLossySetitemError\u001b[0m                         Traceback (most recent call last)",
      "File \u001b[1;32mc:\\Users\\marce\\anaconda3\\Lib\\site-packages\\pandas\\core\\frame.py:4563\u001b[0m, in \u001b[0;36mDataFrame._set_value\u001b[1;34m(self, index, col, value, takeable)\u001b[0m\n\u001b[0;32m   4562\u001b[0m     iindex \u001b[38;5;241m=\u001b[39m \u001b[38;5;28mself\u001b[39m\u001b[38;5;241m.\u001b[39mindex\u001b[38;5;241m.\u001b[39mget_loc(index)\n\u001b[1;32m-> 4563\u001b[0m \u001b[38;5;28mself\u001b[39m\u001b[38;5;241m.\u001b[39m_mgr\u001b[38;5;241m.\u001b[39mcolumn_setitem(icol, iindex, value, inplace_only\u001b[38;5;241m=\u001b[39m\u001b[38;5;28;01mTrue\u001b[39;00m)\n\u001b[0;32m   4564\u001b[0m \u001b[38;5;28mself\u001b[39m\u001b[38;5;241m.\u001b[39m_clear_item_cache()\n",
      "File \u001b[1;32mc:\\Users\\marce\\anaconda3\\Lib\\site-packages\\pandas\\core\\internals\\managers.py:1335\u001b[0m, in \u001b[0;36mBlockManager.column_setitem\u001b[1;34m(self, loc, idx, value, inplace_only)\u001b[0m\n\u001b[0;32m   1334\u001b[0m \u001b[38;5;28;01mif\u001b[39;00m inplace_only:\n\u001b[1;32m-> 1335\u001b[0m     col_mgr\u001b[38;5;241m.\u001b[39msetitem_inplace(idx, value)\n\u001b[0;32m   1336\u001b[0m \u001b[38;5;28;01melse\u001b[39;00m:\n",
      "File \u001b[1;32mc:\\Users\\marce\\anaconda3\\Lib\\site-packages\\pandas\\core\\internals\\managers.py:2044\u001b[0m, in \u001b[0;36mSingleBlockManager.setitem_inplace\u001b[1;34m(self, indexer, value, warn)\u001b[0m\n\u001b[0;32m   2038\u001b[0m         warnings\u001b[38;5;241m.\u001b[39mwarn(\n\u001b[0;32m   2039\u001b[0m             COW_WARNING_SETITEM_MSG,\n\u001b[0;32m   2040\u001b[0m             \u001b[38;5;167;01mFutureWarning\u001b[39;00m,\n\u001b[0;32m   2041\u001b[0m             stacklevel\u001b[38;5;241m=\u001b[39mfind_stack_level(),\n\u001b[0;32m   2042\u001b[0m         )\n\u001b[1;32m-> 2044\u001b[0m \u001b[38;5;28msuper\u001b[39m()\u001b[38;5;241m.\u001b[39msetitem_inplace(indexer, value)\n",
      "File \u001b[1;32mc:\\Users\\marce\\anaconda3\\Lib\\site-packages\\pandas\\core\\internals\\base.py:357\u001b[0m, in \u001b[0;36mSingleDataManager.setitem_inplace\u001b[1;34m(self, indexer, value, warn)\u001b[0m\n\u001b[0;32m    354\u001b[0m \u001b[38;5;28;01mif\u001b[39;00m \u001b[38;5;28misinstance\u001b[39m(arr, np\u001b[38;5;241m.\u001b[39mndarray):\n\u001b[0;32m    355\u001b[0m     \u001b[38;5;66;03m# Note: checking for ndarray instead of np.dtype means we exclude\u001b[39;00m\n\u001b[0;32m    356\u001b[0m     \u001b[38;5;66;03m#  dt64/td64, which do their own validation.\u001b[39;00m\n\u001b[1;32m--> 357\u001b[0m     value \u001b[38;5;241m=\u001b[39m np_can_hold_element(arr\u001b[38;5;241m.\u001b[39mdtype, value)\n\u001b[0;32m    359\u001b[0m \u001b[38;5;28;01mif\u001b[39;00m \u001b[38;5;28misinstance\u001b[39m(value, np\u001b[38;5;241m.\u001b[39mndarray) \u001b[38;5;129;01mand\u001b[39;00m value\u001b[38;5;241m.\u001b[39mndim \u001b[38;5;241m==\u001b[39m \u001b[38;5;241m1\u001b[39m \u001b[38;5;129;01mand\u001b[39;00m \u001b[38;5;28mlen\u001b[39m(value) \u001b[38;5;241m==\u001b[39m \u001b[38;5;241m1\u001b[39m:\n\u001b[0;32m    360\u001b[0m     \u001b[38;5;66;03m# NumPy 1.25 deprecation: https://github.com/numpy/numpy/pull/10615\u001b[39;00m\n",
      "File \u001b[1;32mc:\\Users\\marce\\anaconda3\\Lib\\site-packages\\pandas\\core\\dtypes\\cast.py:1873\u001b[0m, in \u001b[0;36mnp_can_hold_element\u001b[1;34m(dtype, element)\u001b[0m\n\u001b[0;32m   1871\u001b[0m \u001b[38;5;28;01mif\u001b[39;00m tipo\u001b[38;5;241m.\u001b[39mkind \u001b[38;5;129;01mnot\u001b[39;00m \u001b[38;5;129;01min\u001b[39;00m \u001b[38;5;124m\"\u001b[39m\u001b[38;5;124miuf\u001b[39m\u001b[38;5;124m\"\u001b[39m:\n\u001b[0;32m   1872\u001b[0m     \u001b[38;5;66;03m# Anything other than float/integer we cannot hold\u001b[39;00m\n\u001b[1;32m-> 1873\u001b[0m     \u001b[38;5;28;01mraise\u001b[39;00m LossySetitemError\n\u001b[0;32m   1874\u001b[0m \u001b[38;5;28;01mif\u001b[39;00m \u001b[38;5;129;01mnot\u001b[39;00m \u001b[38;5;28misinstance\u001b[39m(tipo, np\u001b[38;5;241m.\u001b[39mdtype):\n\u001b[0;32m   1875\u001b[0m     \u001b[38;5;66;03m# i.e. nullable IntegerDtype or FloatingDtype;\u001b[39;00m\n\u001b[0;32m   1876\u001b[0m     \u001b[38;5;66;03m#  we can put this into an ndarray losslessly iff it has no NAs\u001b[39;00m\n",
      "\u001b[1;31mLossySetitemError\u001b[0m: ",
      "\nDuring handling of the above exception, another exception occurred:\n",
      "\u001b[1;31mValueError\u001b[0m                                Traceback (most recent call last)",
      "Cell \u001b[1;32mIn[9], line 10\u001b[0m\n\u001b[0;32m      8\u001b[0m VL_chothia_seq \u001b[38;5;241m=\u001b[39m pd\u001b[38;5;241m.\u001b[39mread_csv(\u001b[38;5;124mf\u001b[39m\u001b[38;5;124m\"\u001b[39m\u001b[38;5;124mdata/sabdab_download/\u001b[39m\u001b[38;5;132;01m{\u001b[39;00mpdb\u001b[38;5;132;01m}\u001b[39;00m\u001b[38;5;124m/\u001b[39m\u001b[38;5;132;01m{\u001b[39;00mpdb\u001b[38;5;132;01m}\u001b[39;00m\u001b[38;5;124m_\u001b[39m\u001b[38;5;132;01m{\u001b[39;00mfab_unique[\u001b[38;5;241m2\u001b[39m]\u001b[38;5;132;01m}\u001b[39;00m\u001b[38;5;124m_VL.ann\u001b[39m\u001b[38;5;124m\"\u001b[39m, sep\u001b[38;5;241m=\u001b[39m\u001b[38;5;124m'\u001b[39m\u001b[38;5;130;01m\\t\u001b[39;00m\u001b[38;5;124m'\u001b[39m, header\u001b[38;5;241m=\u001b[39m\u001b[38;5;28;01mNone\u001b[39;00m, names\u001b[38;5;241m=\u001b[39m[\u001b[38;5;124m'\u001b[39m\u001b[38;5;124mChothia_Position\u001b[39m\u001b[38;5;124m'\u001b[39m, \u001b[38;5;124m'\u001b[39m\u001b[38;5;124mAminosäure\u001b[39m\u001b[38;5;124m'\u001b[39m])\n\u001b[0;32m      9\u001b[0m H1_seq \u001b[38;5;241m=\u001b[39m VH_chothia_seq\u001b[38;5;241m.\u001b[39mloc[cdr_regions[\u001b[38;5;124m\"\u001b[39m\u001b[38;5;124mH1\u001b[39m\u001b[38;5;124m\"\u001b[39m], \u001b[38;5;124m\"\u001b[39m\u001b[38;5;124mAminosäure\u001b[39m\u001b[38;5;124m\"\u001b[39m]\u001b[38;5;241m.\u001b[39mtolist()\n\u001b[1;32m---> 10\u001b[0m ab_ag\u001b[38;5;241m.\u001b[39mat[x, \u001b[38;5;124m\"\u001b[39m\u001b[38;5;124mCDR_H1\u001b[39m\u001b[38;5;124m\"\u001b[39m] \u001b[38;5;241m=\u001b[39m H1_seq\n\u001b[0;32m     11\u001b[0m H2_seq \u001b[38;5;241m=\u001b[39m VH_chothia_seq\u001b[38;5;241m.\u001b[39mloc[cdr_regions[\u001b[38;5;124m\"\u001b[39m\u001b[38;5;124mH2\u001b[39m\u001b[38;5;124m\"\u001b[39m], \u001b[38;5;124m\"\u001b[39m\u001b[38;5;124mAminosäure\u001b[39m\u001b[38;5;124m\"\u001b[39m]\u001b[38;5;241m.\u001b[39mtolist()\n\u001b[0;32m     12\u001b[0m ab_ag\u001b[38;5;241m.\u001b[39mat[x, \u001b[38;5;124m\"\u001b[39m\u001b[38;5;124mCDR_H2\u001b[39m\u001b[38;5;124m\"\u001b[39m] \u001b[38;5;241m=\u001b[39m H2_seq\n",
      "File \u001b[1;32mc:\\Users\\marce\\anaconda3\\Lib\\site-packages\\pandas\\core\\indexing.py:2586\u001b[0m, in \u001b[0;36m_AtIndexer.__setitem__\u001b[1;34m(self, key, value)\u001b[0m\n\u001b[0;32m   2583\u001b[0m     \u001b[38;5;28mself\u001b[39m\u001b[38;5;241m.\u001b[39mobj\u001b[38;5;241m.\u001b[39mloc[key] \u001b[38;5;241m=\u001b[39m value\n\u001b[0;32m   2584\u001b[0m     \u001b[38;5;28;01mreturn\u001b[39;00m\n\u001b[1;32m-> 2586\u001b[0m \u001b[38;5;28;01mreturn\u001b[39;00m \u001b[38;5;28msuper\u001b[39m()\u001b[38;5;241m.\u001b[39m\u001b[38;5;21m__setitem__\u001b[39m(key, value)\n",
      "File \u001b[1;32mc:\\Users\\marce\\anaconda3\\Lib\\site-packages\\pandas\\core\\indexing.py:2542\u001b[0m, in \u001b[0;36m_ScalarAccessIndexer.__setitem__\u001b[1;34m(self, key, value)\u001b[0m\n\u001b[0;32m   2539\u001b[0m \u001b[38;5;28;01mif\u001b[39;00m \u001b[38;5;28mlen\u001b[39m(key) \u001b[38;5;241m!=\u001b[39m \u001b[38;5;28mself\u001b[39m\u001b[38;5;241m.\u001b[39mndim:\n\u001b[0;32m   2540\u001b[0m     \u001b[38;5;28;01mraise\u001b[39;00m \u001b[38;5;167;01mValueError\u001b[39;00m(\u001b[38;5;124m\"\u001b[39m\u001b[38;5;124mNot enough indexers for scalar access (setting)!\u001b[39m\u001b[38;5;124m\"\u001b[39m)\n\u001b[1;32m-> 2542\u001b[0m \u001b[38;5;28mself\u001b[39m\u001b[38;5;241m.\u001b[39mobj\u001b[38;5;241m.\u001b[39m_set_value(\u001b[38;5;241m*\u001b[39mkey, value\u001b[38;5;241m=\u001b[39mvalue, takeable\u001b[38;5;241m=\u001b[39m\u001b[38;5;28mself\u001b[39m\u001b[38;5;241m.\u001b[39m_takeable)\n",
      "File \u001b[1;32mc:\\Users\\marce\\anaconda3\\Lib\\site-packages\\pandas\\core\\frame.py:4575\u001b[0m, in \u001b[0;36mDataFrame._set_value\u001b[1;34m(self, index, col, value, takeable)\u001b[0m\n\u001b[0;32m   4573\u001b[0m         \u001b[38;5;28mself\u001b[39m\u001b[38;5;241m.\u001b[39miloc[index, col] \u001b[38;5;241m=\u001b[39m value\n\u001b[0;32m   4574\u001b[0m     \u001b[38;5;28;01melse\u001b[39;00m:\n\u001b[1;32m-> 4575\u001b[0m         \u001b[38;5;28mself\u001b[39m\u001b[38;5;241m.\u001b[39mloc[index, col] \u001b[38;5;241m=\u001b[39m value\n\u001b[0;32m   4576\u001b[0m     \u001b[38;5;28mself\u001b[39m\u001b[38;5;241m.\u001b[39m_item_cache\u001b[38;5;241m.\u001b[39mpop(col, \u001b[38;5;28;01mNone\u001b[39;00m)\n\u001b[0;32m   4578\u001b[0m \u001b[38;5;28;01mexcept\u001b[39;00m InvalidIndexError \u001b[38;5;28;01mas\u001b[39;00m ii_err:\n\u001b[0;32m   4579\u001b[0m     \u001b[38;5;66;03m# GH48729: Seems like you are trying to assign a value to a\u001b[39;00m\n\u001b[0;32m   4580\u001b[0m     \u001b[38;5;66;03m# row when only scalar options are permitted\u001b[39;00m\n",
      "File \u001b[1;32mc:\\Users\\marce\\anaconda3\\Lib\\site-packages\\pandas\\core\\indexing.py:911\u001b[0m, in \u001b[0;36m_LocationIndexer.__setitem__\u001b[1;34m(self, key, value)\u001b[0m\n\u001b[0;32m    908\u001b[0m \u001b[38;5;28mself\u001b[39m\u001b[38;5;241m.\u001b[39m_has_valid_setitem_indexer(key)\n\u001b[0;32m    910\u001b[0m iloc \u001b[38;5;241m=\u001b[39m \u001b[38;5;28mself\u001b[39m \u001b[38;5;28;01mif\u001b[39;00m \u001b[38;5;28mself\u001b[39m\u001b[38;5;241m.\u001b[39mname \u001b[38;5;241m==\u001b[39m \u001b[38;5;124m\"\u001b[39m\u001b[38;5;124miloc\u001b[39m\u001b[38;5;124m\"\u001b[39m \u001b[38;5;28;01melse\u001b[39;00m \u001b[38;5;28mself\u001b[39m\u001b[38;5;241m.\u001b[39mobj\u001b[38;5;241m.\u001b[39miloc\n\u001b[1;32m--> 911\u001b[0m iloc\u001b[38;5;241m.\u001b[39m_setitem_with_indexer(indexer, value, \u001b[38;5;28mself\u001b[39m\u001b[38;5;241m.\u001b[39mname)\n",
      "File \u001b[1;32mc:\\Users\\marce\\anaconda3\\Lib\\site-packages\\pandas\\core\\indexing.py:1942\u001b[0m, in \u001b[0;36m_iLocIndexer._setitem_with_indexer\u001b[1;34m(self, indexer, value, name)\u001b[0m\n\u001b[0;32m   1939\u001b[0m \u001b[38;5;66;03m# align and set the values\u001b[39;00m\n\u001b[0;32m   1940\u001b[0m \u001b[38;5;28;01mif\u001b[39;00m take_split_path:\n\u001b[0;32m   1941\u001b[0m     \u001b[38;5;66;03m# We have to operate column-wise\u001b[39;00m\n\u001b[1;32m-> 1942\u001b[0m     \u001b[38;5;28mself\u001b[39m\u001b[38;5;241m.\u001b[39m_setitem_with_indexer_split_path(indexer, value, name)\n\u001b[0;32m   1943\u001b[0m \u001b[38;5;28;01melse\u001b[39;00m:\n\u001b[0;32m   1944\u001b[0m     \u001b[38;5;28mself\u001b[39m\u001b[38;5;241m.\u001b[39m_setitem_single_block(indexer, value, name)\n",
      "File \u001b[1;32mc:\\Users\\marce\\anaconda3\\Lib\\site-packages\\pandas\\core\\indexing.py:1998\u001b[0m, in \u001b[0;36m_iLocIndexer._setitem_with_indexer_split_path\u001b[1;34m(self, indexer, value, name)\u001b[0m\n\u001b[0;32m   1993\u001b[0m     \u001b[38;5;28;01mif\u001b[39;00m \u001b[38;5;28mlen\u001b[39m(value) \u001b[38;5;241m==\u001b[39m \u001b[38;5;241m1\u001b[39m \u001b[38;5;129;01mand\u001b[39;00m \u001b[38;5;129;01mnot\u001b[39;00m is_integer(info_axis):\n\u001b[0;32m   1994\u001b[0m         \u001b[38;5;66;03m# This is a case like df.iloc[:3, [1]] = [0]\u001b[39;00m\n\u001b[0;32m   1995\u001b[0m         \u001b[38;5;66;03m#  where we treat as df.iloc[:3, 1] = 0\u001b[39;00m\n\u001b[0;32m   1996\u001b[0m         \u001b[38;5;28;01mreturn\u001b[39;00m \u001b[38;5;28mself\u001b[39m\u001b[38;5;241m.\u001b[39m_setitem_with_indexer((pi, info_axis[\u001b[38;5;241m0\u001b[39m]), value[\u001b[38;5;241m0\u001b[39m])\n\u001b[1;32m-> 1998\u001b[0m     \u001b[38;5;28;01mraise\u001b[39;00m \u001b[38;5;167;01mValueError\u001b[39;00m(\n\u001b[0;32m   1999\u001b[0m         \u001b[38;5;124m\"\u001b[39m\u001b[38;5;124mMust have equal len keys and value \u001b[39m\u001b[38;5;124m\"\u001b[39m\n\u001b[0;32m   2000\u001b[0m         \u001b[38;5;124m\"\u001b[39m\u001b[38;5;124mwhen setting with an iterable\u001b[39m\u001b[38;5;124m\"\u001b[39m\n\u001b[0;32m   2001\u001b[0m     )\n\u001b[0;32m   2003\u001b[0m \u001b[38;5;28;01melif\u001b[39;00m lplane_indexer \u001b[38;5;241m==\u001b[39m \u001b[38;5;241m0\u001b[39m \u001b[38;5;129;01mand\u001b[39;00m \u001b[38;5;28mlen\u001b[39m(value) \u001b[38;5;241m==\u001b[39m \u001b[38;5;28mlen\u001b[39m(\u001b[38;5;28mself\u001b[39m\u001b[38;5;241m.\u001b[39mobj\u001b[38;5;241m.\u001b[39mindex):\n\u001b[0;32m   2004\u001b[0m     \u001b[38;5;66;03m# We get here in one case via .loc with a all-False mask\u001b[39;00m\n\u001b[0;32m   2005\u001b[0m     \u001b[38;5;28;01mpass\u001b[39;00m\n",
      "\u001b[1;31mValueError\u001b[0m: Must have equal len keys and value when setting with an iterable"
     ]
    }
   ],
   "source": [
    "#Wo error?\n",
    "for x in range(0,1):\n",
    "    fab_unique = ab_ag.iloc[x,0:4].values.tolist()\n",
    "    pdb = fab_unique[0]\n",
    "    if not os.path.exists(f\"data/sabdab_download/{pdb}\"):\n",
    "        os.makedirs(f\"data/sabdab_download/{pdb}\")\n",
    "    getannotation(pdb, [fab_unique], f\"data/sabdab_download/{pdb}\")\n",
    "    VH_chothia_seq = pd.read_csv(f\"data/sabdab_download/{pdb}/{pdb}_{fab_unique[1]}_VH.ann\", sep='\\t', header=None, names=['Chothia_Position', 'Aminosäure'])\n",
    "    VL_chothia_seq = pd.read_csv(f\"data/sabdab_download/{pdb}/{pdb}_{fab_unique[2]}_VL.ann\", sep='\\t', header=None, names=['Chothia_Position', 'Aminosäure'])\n",
    "    H1_seq = VH_chothia_seq.loc[cdr_regions[\"H1\"], \"Aminosäure\"].tolist()\n",
    "    ab_ag.at[x, \"CDR_H1\"] = H1_seq\n",
    "    H2_seq = VH_chothia_seq.loc[cdr_regions[\"H2\"], \"Aminosäure\"].tolist()\n",
    "    ab_ag.at[x, \"CDR_H2\"] = H2_seq\n",
    "    H3_seq = VH_chothia_seq.loc[cdr_regions[\"H3\"], \"Aminosäure\"].tolist()\n",
    "    ab_ag.at[x, \"CDR_H3\"] = H3_seq\n",
    "    L1_seq = VL_chothia_seq.loc[cdr_regions[\"L1\"], \"Aminosäure\"].tolist()\n",
    "    ab_ag.at[x, \"CDR_L1\"] = L1_seq\n",
    "    L2_seq = VL_chothia_seq.loc[cdr_regions[\"L2\"], \"Aminosäure\"].tolist()\n",
    "    ab_ag.at[x, \"CDR_L2\"] = L2_seq\n",
    "    L3_seq = VL_chothia_seq.loc[cdr_regions[\"L3\"], \"Aminosäure\"].tolist()\n",
    "    ab_ag.at[x, \"CDR_L3\"] = L3_seq\n",
    "    shutil.rmtree(f\"data/sabdab_download/{pdb}\")"
   ]
  }
 ],
 "metadata": {
  "kernelspec": {
   "display_name": "base",
   "language": "python",
   "name": "python3"
  },
  "language_info": {
   "codemirror_mode": {
    "name": "ipython",
    "version": 3
   },
   "file_extension": ".py",
   "mimetype": "text/x-python",
   "name": "python",
   "nbconvert_exporter": "python",
   "pygments_lexer": "ipython3",
   "version": "3.12.7"
  }
 },
 "nbformat": 4,
 "nbformat_minor": 5
}
