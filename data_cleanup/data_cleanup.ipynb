{
 "cells": [
  {
   "cell_type": "code",
   "execution_count": 43,
   "id": "1f984820",
   "metadata": {},
   "outputs": [
    {
     "name": "stderr",
     "output_type": "stream",
     "text": [
      "C:\\Users\\marce\\AppData\\Local\\Temp\\ipykernel_6880\\310403323.py:7: SettingWithCopyWarning: \n",
      "A value is trying to be set on a copy of a slice from a DataFrame\n",
      "\n",
      "See the caveats in the documentation: https://pandas.pydata.org/pandas-docs/stable/user_guide/indexing.html#returning-a-view-versus-a-copy\n",
      "  ab_ag.dropna(subset=[\"antigen_chain\"], inplace=True)\n"
     ]
    }
   ],
   "source": [
    "# Notebook vorbereiten\n",
    "from common.functions import Notebook_vorbereiten\n",
    "ab_ag_raw, columns, uniprot_data = Notebook_vorbereiten()\n",
    "\n",
    "# ab_ag aus ab_ag_raw aufbereiten\n",
    "ab_ag = ab_ag_raw[[\"pdb\", \"Hchain\", \"Lchain\", \"antigen_chain\", \"antigen_name\", \"antigen_species\"]]\n",
    "ab_ag.dropna(subset=[\"antigen_chain\"], inplace=True)\n",
    "\n",
    "# Ich hab aus Versehen das Code-Feld gelöscht! Code von Anna für doppelte pdb Einträge zurückholen!"
   ]
  },
  {
   "cell_type": "code",
   "execution_count": null,
   "id": "93109519",
   "metadata": {},
   "outputs": [],
   "source": [
    "# Funktionen aus dem sabdab_downloader importieren\n",
    "from common.sabdab_downloader import getchothpdb\n",
    "from common.sabdab_downloader import getannotation\n",
    "\n",
    "# Erstelle eine Liste mit allen eindeutigen PDB-Einträgen aus ab_ag\n",
    "pdb_entries = ab_ag[\"pdb\"].unique()\n",
    "\n",
    "# Lade die Chothia-Daten und Chothia-nummerierten Sequenzen für jeden PDB-Eintrag herunter und speichere sie im Ordner des entsprechenden PDB-Eintrags\n",
    "for pdb in pdb_entries:\n",
    "    # Zeilenweise Einträge für den aktuellen PDB-Eintrag extrahieren (für die Chothia-annotierten Sequenzen)\n",
    "    fab_list = ab_ag_raw[ab_ag_raw[\"pdb\"] == pdb].values.tolist()\n",
    "    # Erstelle die Ordner für Chothia-Daten und Chothia-annotierte Sequenz für den PDB-Eintrag, falls er nicht existiert\n",
    "    if not os.path.exists(f\"data/sabdab_downloads/{pdb}/chothia_file\"):\n",
    "        os.makedirs(f\"data/sabdab_downloads/{pdb}/chothia_file\")\n",
    "    if not os.path.exists(f\"data/sabdab_downloads/{pdb}/chothia_sequence\"):\n",
    "        os.makedirs(f\"data/sabdab_downloads/{pdb}/chothia_sequence\")\n",
    "    # Lade die Chothia-Daten und Chothia-nummerierten Sequenzen herunter oder gib eine Fehlermeldung für entsprechende PDB-Einträge aus\n",
    "    try:\n",
    "        getchothpdb(pdb, f\"data/sabdab_downloads/{pdb}/chothia_file\")\n",
    "    except Exception as e:\n",
    "        print(f\"Could not download Chothia-File for {pdb}: {e}\")\n",
    "    try:\n",
    "        getannotation(pdb, fab_list, f\"data/sabdab_downloads/{pdb}/chothia_sequence\")\n",
    "    except Exception as e:\n",
    "        print(f\"Could not download Chothia-annotated sequence for {pdb}: {e}\")"
   ]
  },
  {
   "cell_type": "code",
   "execution_count": null,
   "id": "f56aec97",
   "metadata": {},
   "outputs": [],
   "source": [
    "# Überarbeiteter Code zum Herunterladen der Antikörpersequenzen. Direkt in ab_ag_raw speichern\n",
    "# Funktionen aus dem sabdab_downloader importieren\n",
    "from common.sabdab_downloader import getchothpdb\n",
    "from common.sabdab_downloader import getannotation\n",
    "\n",
    "# Definiere CDR-Regionen als slices für die H- und L-Ketten\n",
    "    cdr_regions = {\n",
    "        \"H1\": (26, 32),\n",
    "        \"H2\": (52, 56),\n",
    "        \"H3\": (95, 102),\n",
    "        \"L1\": (24, 34),\n",
    "        \"L2\": (50, 56),\n",
    "        \"L3\": (89, 97)\n",
    "    }\n",
    "\n",
    "# Füge Spalten für die CDR-Sequenzen in ab_ag hinzu\n",
    "ab_ag[\"H1_seq\"] = np.nan\n",
    "ab_ag[\"H2_seq\"] = np.nan\n",
    "ab_ag[\"H3_seq\"] = np.nan\n",
    "ab_ag[\"L1_seq\"] = np.nan\n",
    "ab_ag[\"L2_seq\"] = np.nan\n",
    "ab_ag[\"L3_seq\"] = np.nan\n",
    "# Erstelle eine Liste mit allen PDB-Einträgen aus ab_ag (enthält Duplikate)\n",
    "pdb_entries = ab_ag[\"pdb\"]\n",
    "\n",
    "# Lade die Chothia-Daten und Chothia-nummerierten Sequenzen für jeden PDB-Eintrag herunter und speichere sie im Ordner des entsprechenden PDB-Eintrags\n",
    "for pdb in pdb_entries:\n",
    "    # Zeilenweise Einträge für den aktuellen PDB-Eintrag extrahieren (für die Chothia-annotierten Sequenzen)\n",
    "    fab_list = ab_ag_raw[ab_ag_raw[\"pdb\"] == pdb].values.tolist()\n",
    "    # Erstelle die Ordner für Chothia-Daten und Chothia-annotierte Sequenz für den PDB-Eintrag, falls er nicht existiert\n",
    "    if not os.path.exists(f\"data/sabdab_downloads\"):\n",
    "        os.makedirs(f\"data/sabdab_downloads\")\n",
    "    if not os.path.exists(f\"data/sabdab_downloads\"):\n",
    "        os.makedirs(f\"data/sabdab_downloads\")\n",
    "    # Lade die Chothia-Daten und Chothia-nummerierten Sequenzen herunter oder gib eine Fehlermeldung für entsprechende PDB-Einträge aus\n",
    "    try:\n",
    "        getchothpdb(pdb, f\"data/sabdab_downloads/{pdb}/chothia_file\")\n",
    "    except Exception as e:\n",
    "        print(f\"Could not download Chothia-File for {pdb}: {e}\")\n",
    "    try:\n",
    "        getannotation(pdb, fab_list, f\"data/sabdab_downloads\")\n",
    "    except Exception as e:\n",
    "        print(f\"Could not download Chothia-annotated sequence for {pdb}: {e}\")\n",
    "    # Extrahiere die CDR-Sequenzen aus den heruntergeladenen Chothia-annotierten Sequenzen und speichere sie in ab_ag\n",
    "    # Speichere jede .ann-Datei in einm DataFrame\n",
    "    VH_chothia_seq = pd.read_csv(f\"{pdb}_{fab_list[1]_VH}.ann\", sep='\\t', header=None, names=['Chothia_Position', 'Aminosäure'])\n",
    "    VL_chothia_seq = pd.read_csv(f\"{pdb}_{fab_list[2]_VL}.ann\", sep='\\t', header=None, names=['Chothia_Position', 'Aminosäure'])\n",
    "    # Extrahiere die CDR-Sequenzen aus den Chothia-annotierten Sequenzen\n",
    "    H1_seq = VH_chothia_seq.loc[\"cdr_regions[\"H1\"]\", \"Aminosäure\"].tolist()\n",
    "    H2_seq = VH_chothia_seq.loc[\"cdr_regions[\"H2\"]\", \"Aminosäure\"].tolist()\n",
    "    H3_seq = VH_chothia_seq.loc[\"cdr_regions[\"H3\"]\", \"Aminosäure\"].tolist()\n",
    "    L1_seq = VL_chothia_seq.loc[\"cdr_regions[\"L1\"]\", \"Aminosäure\"].tolist()\n",
    "    L2_seq = VL_chothia_seq.loc[\"cdr_regions[\"L2\"]\", \"Aminosäure\"].tolist()\n",
    "    L3_seq = VL_chothia_seq.loc[\"cdr_regions[\"L3\"]\", \"Aminosäure\"].tolist()"
   ]
  }
 ],
 "metadata": {
  "kernelspec": {
   "display_name": "base",
   "language": "python",
   "name": "python3"
  },
  "language_info": {
   "codemirror_mode": {
    "name": "ipython",
    "version": 3
   },
   "file_extension": ".py",
   "mimetype": "text/x-python",
   "name": "python",
   "nbconvert_exporter": "python",
   "pygments_lexer": "ipython3",
   "version": "3.12.7"
  }
 },
 "nbformat": 4,
 "nbformat_minor": 5
}
