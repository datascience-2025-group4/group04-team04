{
 "cells": [
  {
   "cell_type": "code",
   "execution_count": 4,
   "id": "682ab719",
   "metadata": {},
   "outputs": [
    {
     "name": "stdout",
     "output_type": "stream",
     "text": [
      "Erste 3 FASTA-Sequenzen:\n",
      ">seq0\n",
      "FTFSAYG\n",
      ">seq1\n",
      "FTFSAYG\n",
      ">seq2\n",
      "FTFSAYG\n"
     ]
    }
   ],
   "source": [
    "import pandas as pd\n",
    "\n",
    "# TSV-Datei einlesen\n",
    "ab_ag_MMseqs2 = pd.read_csv('data/ab_ag_annotated.tsv', sep='\\t')\n",
    "\n",
    "# NUR die Spalte 'CDR_H1' extrahieren\n",
    "CDR_H1_seq = ab_ag_MMseqs2['CDR_H1']\n",
    "\n",
    "with open(\"CDR_H1_seqs.fasta\", \"w\") as f:\n",
    "    for i, seq in enumerate(CDR_H1_seq):\n",
    "        # Wenn seq eine Liste ist, mach sie zu einem String\n",
    "        if isinstance(seq, list):\n",
    "            seq = ''.join(seq)\n",
    "        elif isinstance(seq, str) and seq.startswith(\"[\") and seq.endswith(\"]\"):\n",
    "            # Falls als String gespeicherte Liste: eval-sicher entschachteln\n",
    "            seq = ''.join(eval(seq))\n",
    "        f.write(f\">seq{i}\\n{seq}\\n\")\n",
    "\n",
    "#Kontrolle (kann auch wieder entfernt werden)\n",
    "print(\"Erste 3 FASTA-Sequenzen:\")\n",
    "with open(\"CDR_H1_seqs.fasta\") as f:\n",
    "    for _ in range(6):  # 3 Sequenzen = 6 Zeilen (je Header + Sequenz)\n",
    "        print(f.readline().strip())"
   ]
  },
  {
   "cell_type": "code",
   "execution_count": null,
   "id": "68b174e4",
   "metadata": {},
   "outputs": [],
   "source": [
    "#code im Terminal schreiben und die Bezüge, den Code dazu in hier eintragen, damit man weiß, was man macht\n",
    "#die datei dann speichern und dann ist es auch okay\n",
    "#COde nachdem Fasta datei erstellt wurde\n",
    "\n",
    "\n",
    "\n",
    "#Erstellt eine interne MMseqs2-Datenbank mit Namen cdr_h1_db aus der FASTA-Datei CDR_H1_seqs.fasta.\n",
    "mmseqs createdb CDR_H1_seqs.fasta cdr_h1_db\n",
    "\n",
    "\n",
    "#Clustern\n",
    "mmseqs cluster cdr_h1_db clu tmp --min-seq-id 0.9 -c 0.8 \n",
    "\n",
    "#cdr_1_db: Ergebnis-Datenbank mit den Clustern\n",
    "#tmp: temporärer Arbeitsornder\n",
    "# --minseq-id 0.9: Mindestens 90% sequenz identität\n",
    "# -c 0.8: Coverage: 80% der kürzeren Sequenz vom alignment müssen abgedeckt sein\n",
    "\n",
    "#No k-mer could be extracted for the database tmp/7247275725010601612/input_step_redundancy.\n",
    "#Maybe the sequences length is less than 14 residues. --> MMseqs2 unterstützt keinen cluster Befehl für seq < 14, auch runter reduzieren hilf nicht\n",
    "mmseqs cluster cdr_h1_db clu tmp --min-seq-id 0.9 -c 0.8 --kmer-per-seq 5\n",
    "mmseqs cluster cdr_h1_db clu tmp --min-seq-id 0.9 -c 0.8 --kmer-per-seq-scale 0.1\n",
    "#haben beide nicht funktioniert\n",
    "#padding vermutlich unnötig\n"
   ]
  }
 ],
 "metadata": {
  "kernelspec": {
   "display_name": "Python 3",
   "language": "python",
   "name": "python3"
  },
  "language_info": {
   "codemirror_mode": {
    "name": "ipython",
    "version": 3
   },
   "file_extension": ".py",
   "mimetype": "text/x-python",
   "name": "python",
   "nbconvert_exporter": "python",
   "pygments_lexer": "ipython3",
   "version": "3.13.3"
  }
 },
 "nbformat": 4,
 "nbformat_minor": 5
}
