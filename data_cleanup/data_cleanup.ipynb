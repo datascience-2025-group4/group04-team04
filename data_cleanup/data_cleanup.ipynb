{
 "cells": [
  {
   "cell_type": "code",
   "execution_count": 2,
   "id": "1f984820",
   "metadata": {},
   "outputs": [
    {
     "name": "stderr",
     "output_type": "stream",
     "text": [
      "C:\\Users\\marce\\AppData\\Local\\Temp\\ipykernel_13884\\1323507865.py:15: SettingWithCopyWarning: \n",
      "A value is trying to be set on a copy of a slice from a DataFrame.\n",
      "Try using .loc[row_indexer,col_indexer] = value instead\n",
      "\n",
      "See the caveats in the documentation: https://pandas.pydata.org/pandas-docs/stable/user_guide/indexing.html#returning-a-view-versus-a-copy\n",
      "  ab_ag[\"CDR_H1\"] = np.nan\n",
      "C:\\Users\\marce\\AppData\\Local\\Temp\\ipykernel_13884\\1323507865.py:16: SettingWithCopyWarning: \n",
      "A value is trying to be set on a copy of a slice from a DataFrame.\n",
      "Try using .loc[row_indexer,col_indexer] = value instead\n",
      "\n",
      "See the caveats in the documentation: https://pandas.pydata.org/pandas-docs/stable/user_guide/indexing.html#returning-a-view-versus-a-copy\n",
      "  ab_ag[\"CDR_H2\"] = np.nan\n",
      "C:\\Users\\marce\\AppData\\Local\\Temp\\ipykernel_13884\\1323507865.py:17: SettingWithCopyWarning: \n",
      "A value is trying to be set on a copy of a slice from a DataFrame.\n",
      "Try using .loc[row_indexer,col_indexer] = value instead\n",
      "\n",
      "See the caveats in the documentation: https://pandas.pydata.org/pandas-docs/stable/user_guide/indexing.html#returning-a-view-versus-a-copy\n",
      "  ab_ag[\"CDR_H3\"] = np.nan\n",
      "C:\\Users\\marce\\AppData\\Local\\Temp\\ipykernel_13884\\1323507865.py:18: SettingWithCopyWarning: \n",
      "A value is trying to be set on a copy of a slice from a DataFrame.\n",
      "Try using .loc[row_indexer,col_indexer] = value instead\n",
      "\n",
      "See the caveats in the documentation: https://pandas.pydata.org/pandas-docs/stable/user_guide/indexing.html#returning-a-view-versus-a-copy\n",
      "  ab_ag[\"CDR_L1\"] = np.nan\n",
      "C:\\Users\\marce\\AppData\\Local\\Temp\\ipykernel_13884\\1323507865.py:19: SettingWithCopyWarning: \n",
      "A value is trying to be set on a copy of a slice from a DataFrame.\n",
      "Try using .loc[row_indexer,col_indexer] = value instead\n",
      "\n",
      "See the caveats in the documentation: https://pandas.pydata.org/pandas-docs/stable/user_guide/indexing.html#returning-a-view-versus-a-copy\n",
      "  ab_ag[\"CDR_L2\"] = np.nan\n",
      "C:\\Users\\marce\\AppData\\Local\\Temp\\ipykernel_13884\\1323507865.py:20: SettingWithCopyWarning: \n",
      "A value is trying to be set on a copy of a slice from a DataFrame.\n",
      "Try using .loc[row_indexer,col_indexer] = value instead\n",
      "\n",
      "See the caveats in the documentation: https://pandas.pydata.org/pandas-docs/stable/user_guide/indexing.html#returning-a-view-versus-a-copy\n",
      "  ab_ag[\"CDR_L3\"] = np.nan\n",
      "C:\\Users\\marce\\AppData\\Local\\Temp\\ipykernel_13884\\1323507865.py:22: SettingWithCopyWarning: \n",
      "A value is trying to be set on a copy of a slice from a DataFrame\n",
      "\n",
      "See the caveats in the documentation: https://pandas.pydata.org/pandas-docs/stable/user_guide/indexing.html#returning-a-view-versus-a-copy\n",
      "  ab_ag.dropna(subset=[\"antigen_chain\"], inplace=True)\n"
     ]
    }
   ],
   "source": [
    "# Notebook vorbereiten\n",
    "import pandas as pd\n",
    "import numpy as np\n",
    "import matplotlib.pyplot as plt\n",
    "import seaborn as sns\n",
    "import os\n",
    "import shutil \n",
    "ab_ag_raw = pd.read_csv('data/ab_ag.tsv', sep='\\t')\n",
    "columns = pd.read_csv('data/columns.tsv', sep='\\t')\n",
    "uniprot_data = pd.read_csv('data/uniprot_data.tsv', sep='\\t')\n",
    "\n",
    "# ab_ag aus ab_ag_raw aufbereiten\n",
    "ab_ag = ab_ag_raw[[\"pdb\", \"Hchain\", \"Lchain\", \"model\", \"antigen_chain\", \"antigen_name\", \"antigen_species\"]]\n",
    "# Füge Spalten für die CDR-Sequenzen in ab_ag hinzu\n",
    "ab_ag[\"CDR_H1\"] = np.nan\n",
    "ab_ag[\"CDR_H2\"] = np.nan\n",
    "ab_ag[\"CDR_H3\"] = np.nan\n",
    "ab_ag[\"CDR_L1\"] = np.nan\n",
    "ab_ag[\"CDR_L2\"] = np.nan\n",
    "ab_ag[\"CDR_L3\"] = np.nan\n",
    "# Entferne Einträge ohne Antigennamen\n",
    "ab_ag.dropna(subset=[\"antigen_chain\"], inplace=True)\n",
    "\n",
    "# Ich hab aus Versehen das Code-Feld gelöscht! Code von Anna für doppelte pdb Einträge zurückholen!"
   ]
  },
  {
   "cell_type": "code",
   "execution_count": 7,
   "id": "f56aec97",
   "metadata": {},
   "outputs": [
    {
     "name": "stdout",
     "output_type": "stream",
     "text": [
      "[['9ds2', 'G', 'I', 0]]\n",
      "['9ds2', 'G', 'I', 0]\n"
     ]
    },
    {
     "name": "stderr",
     "output_type": "stream",
     "text": [
      "C:\\Users\\marce\\AppData\\Local\\Temp\\ipykernel_13884\\3275052454.py:36: SettingWithCopyWarning: \n",
      "A value is trying to be set on a copy of a slice from a DataFrame\n",
      "\n",
      "See the caveats in the documentation: https://pandas.pydata.org/pandas-docs/stable/user_guide/indexing.html#returning-a-view-versus-a-copy\n",
      "  ab_ag.iloc[x][\"CDR_H1\"] = H1_seq\n",
      "C:\\Users\\marce\\AppData\\Local\\Temp\\ipykernel_13884\\3275052454.py:38: SettingWithCopyWarning: \n",
      "A value is trying to be set on a copy of a slice from a DataFrame\n",
      "\n",
      "See the caveats in the documentation: https://pandas.pydata.org/pandas-docs/stable/user_guide/indexing.html#returning-a-view-versus-a-copy\n",
      "  ab_ag.iloc[x][\"CDR_H2\"] = H2_seq\n",
      "C:\\Users\\marce\\AppData\\Local\\Temp\\ipykernel_13884\\3275052454.py:40: SettingWithCopyWarning: \n",
      "A value is trying to be set on a copy of a slice from a DataFrame\n",
      "\n",
      "See the caveats in the documentation: https://pandas.pydata.org/pandas-docs/stable/user_guide/indexing.html#returning-a-view-versus-a-copy\n",
      "  ab_ag.iloc[x][\"CDR_H3\"] = H3_seq\n",
      "C:\\Users\\marce\\AppData\\Local\\Temp\\ipykernel_13884\\3275052454.py:42: SettingWithCopyWarning: \n",
      "A value is trying to be set on a copy of a slice from a DataFrame\n",
      "\n",
      "See the caveats in the documentation: https://pandas.pydata.org/pandas-docs/stable/user_guide/indexing.html#returning-a-view-versus-a-copy\n",
      "  ab_ag.iloc[x][\"CDR_L1\"] = L1_seq\n",
      "C:\\Users\\marce\\AppData\\Local\\Temp\\ipykernel_13884\\3275052454.py:44: SettingWithCopyWarning: \n",
      "A value is trying to be set on a copy of a slice from a DataFrame\n",
      "\n",
      "See the caveats in the documentation: https://pandas.pydata.org/pandas-docs/stable/user_guide/indexing.html#returning-a-view-versus-a-copy\n",
      "  ab_ag.iloc[x][\"CDR_L2\"] = L2_seq\n",
      "C:\\Users\\marce\\AppData\\Local\\Temp\\ipykernel_13884\\3275052454.py:46: SettingWithCopyWarning: \n",
      "A value is trying to be set on a copy of a slice from a DataFrame\n",
      "\n",
      "See the caveats in the documentation: https://pandas.pydata.org/pandas-docs/stable/user_guide/indexing.html#returning-a-view-versus-a-copy\n",
      "  ab_ag.iloc[x][\"CDR_L3\"] = L3_seq\n"
     ]
    }
   ],
   "source": [
    "# Überarbeiteter Code zum Herunterladen der Antikörpersequenzen. Direkt in ab_ag_raw speichern\n",
    "# Funktionen aus dem sabdab_downloader importieren\n",
    "from common.sabdab_downloader import getannotation\n",
    "\n",
    "# Definiere CDR-Regionen als slices für die H- und L-Ketten (Literatur überprüfen, ob die Indizes korrekt sind!)\n",
    "cdr_regions = {\n",
    "        \"H1\": slice(26, 32),\n",
    "        \"H2\": slice(52, 56),\n",
    "        \"H3\": slice(95, 102),\n",
    "        \"L1\": slice(24, 34),\n",
    "        \"L2\": slice(50, 56),\n",
    "        \"L3\": slice(89, 97)\n",
    "}\n",
    "\n",
    "# Erstelle eine Liste mit allen PDB-Einträgen aus ab_ag (enthält Duplikate)\n",
    "pdb_entries = ab_ag[\"pdb\"].tolist()\n",
    "\n",
    "# Lade die Chothia-Daten und Chothia-nummerierten Sequenzen für jeden PDB-Eintrag herunter und speichere sie im Ordner des entsprechenden PDB-Eintrags\n",
    "for x in range(0,1): # Testlauf, nur die ersten 5 PDB-Einträge\n",
    "    # Zeilenweise Einträge für den aktuellen PDB-Eintrag extrahieren (für die Chothia-annotierten Sequenzen)\n",
    "    fab_unique = ab_ag.iloc[x,0:4].values.tolist()\n",
    "    pdb = fab_unique[0] # PDB-ID aus der Liste extrahieren\n",
    "    # Erstelle den Ordner für die Chothia-annotierte Sequenz des PDB-Eintrags, falls er nicht existiert\n",
    "    if not os.path.exists(f\"data/sabdab_download/{pdb}\"):\n",
    "        os.makedirs(f\"data/sabdab_download/{pdb}\")\n",
    "    # Lade die Chothia-nummerierten Sequenzen herunter oder gib eine Fehlermeldung für entsprechende PDB-Einträge aus. getanntation erwartet als zweites Argument\n",
    "    # eine Liste aus einer oder mehreren Listen. Wir benutzen pro Zeile in ab_ag jeweils eine Liste, die eine einzige Liste enthält.\n",
    "    try:\n",
    "        getannotation(pdb, [fab_unique], f\"data/sabdab_download/{pdb}\")\n",
    "        # Extrahiere die CDR-Sequenzen aus den heruntergeladenen Chothia-annotierten Sequenzen und speichere sie in ab_ag\n",
    "        # Speichere jede .ann-Datei in einm DataFrame\n",
    "        VH_chothia_seq = pd.read_csv(f\"data/sabdab_download/{pdb}/{pdb}_{fab_unique[1]}_VH.ann\", sep='\\t', header=None, names=['Chothia_Position', 'Aminosäure'])\n",
    "        VL_chothia_seq = pd.read_csv(f\"data/sabdab_download/{pdb}/{pdb}_{fab_unique[2]}_VL.ann\", sep='\\t', header=None, names=['Chothia_Position', 'Aminosäure'])\n",
    "        # Extrahiere die CDR-Sequenzen aus den Chothia-annotierten Sequenzen\n",
    "        H1_seq = VH_chothia_seq.loc[cdr_regions[\"H1\"], \"Aminosäure\"].tolist()\n",
    "        ab_ag.iloc[x][\"CDR_H1\"] = H1_seq\n",
    "        H2_seq = VH_chothia_seq.loc[cdr_regions[\"H2\"], \"Aminosäure\"].tolist()\n",
    "        ab_ag.iloc[x][\"CDR_H2\"] = H2_seq\n",
    "        H3_seq = VH_chothia_seq.loc[cdr_regions[\"H3\"], \"Aminosäure\"].tolist()\n",
    "        ab_ag.iloc[x][\"CDR_H3\"] = H3_seq\n",
    "        L1_seq = VL_chothia_seq.loc[cdr_regions[\"L1\"], \"Aminosäure\"].tolist()\n",
    "        ab_ag.iloc[x][\"CDR_L1\"] = L1_seq\n",
    "        L2_seq = VL_chothia_seq.loc[cdr_regions[\"L2\"], \"Aminosäure\"].tolist()\n",
    "        ab_ag.iloc[x][\"CDR_L2\"] = L2_seq\n",
    "        L3_seq = VL_chothia_seq.loc[cdr_regions[\"L3\"], \"Aminosäure\"].tolist()\n",
    "        ab_ag.iloc[x][\"CDR_L3\"] = L3_seq\n",
    "    except Exception as e:\n",
    "        print(f\"Could not download Chothia-annotated sequence for {pdb}: {e}\")\n",
    "    shutil.rmtree(f\"data/sabdab_download/{pdb}\")  # Lösche den Ordner, nachdem die Sequenzen extrahiert wurden"
   ]
  },
  {
   "cell_type": "code",
   "execution_count": 4,
   "id": "5adb98bc",
   "metadata": {},
   "outputs": [
    {
     "name": "stdout",
     "output_type": "stream",
     "text": [
      "[['9ds2', 'G', 'I', 0]]\n",
      "['9ds2', 'G', 'I', 0]\n"
     ]
    },
    {
     "data": {
      "text/plain": [
       "True"
      ]
     },
     "execution_count": 4,
     "metadata": {},
     "output_type": "execute_result"
    }
   ],
   "source": [
    "from common.sabdab_downloader import getannotation\n",
    "fablist = ab_ag.iloc[0,0:4].values.tolist()\n",
    "pdb = fablist[0]\n",
    "getannotation(pdb, [fablist], \"data_cleanup\")"
   ]
  }
 ],
 "metadata": {
  "kernelspec": {
   "display_name": "base",
   "language": "python",
   "name": "python3"
  },
  "language_info": {
   "codemirror_mode": {
    "name": "ipython",
    "version": 3
   },
   "file_extension": ".py",
   "mimetype": "text/x-python",
   "name": "python",
   "nbconvert_exporter": "python",
   "pygments_lexer": "ipython3",
   "version": "3.12.7"
  }
 },
 "nbformat": 4,
 "nbformat_minor": 5
}
