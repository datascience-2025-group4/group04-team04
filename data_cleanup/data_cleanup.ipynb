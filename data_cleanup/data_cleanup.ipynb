{
 "cells": [
  {
   "cell_type": "code",
   "execution_count": 1,
   "id": "1f984820",
   "metadata": {},
   "outputs": [],
   "source": [
    "# Notebook vorbereiten\n",
    "from common.functions import Notebook_vorbereiten\n",
    "ab_ag_raw, columns, uniprot_data = Notebook_vorbereiten()\n",
    "#War Strg+Shift+P --> Preferences: Open settings --> jupyter.notebookFileRoot richtig für das Problem mit dem Working Directory?"
   ]
  },
  {
   "cell_type": "code",
   "execution_count": null,
   "id": "9004cce4",
   "metadata": {},
   "outputs": [],
   "source": [
    "# Hier stand eigentlich mal Paulis Code aber der ist nicht mehr da. Steht aber noch im alten Repo. :("
   ]
  }
 ],
 "metadata": {
  "kernelspec": {
   "display_name": "base",
   "language": "python",
   "name": "python3"
  },
  "language_info": {
   "codemirror_mode": {
    "name": "ipython",
    "version": 3
   },
   "file_extension": ".py",
   "mimetype": "text/x-python",
   "name": "python",
   "nbconvert_exporter": "python",
   "pygments_lexer": "ipython3",
   "version": "3.12.7"
  }
 },
 "nbformat": 4,
 "nbformat_minor": 5
}
